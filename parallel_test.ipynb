{
 "cells": [
  {
   "cell_type": "code",
   "execution_count": 5,
   "metadata": {},
   "outputs": [],
   "source": [
    "from algorithm.louvain import louvain\n",
    "from algorithm.spectral_clustering import spectral_clustering, normalized_spectral_clustering\n",
    "from algorithm.hierarchical_clustering import mst_cut_clustering\n",
    "from utils.analyze import get_rs_from_fixed_weighted_degree, compute_clustering, validation, metrics_to_df \n",
    "from utils.generation import multivariate_t_rvs, corr_estimate_parallel, get_mean_cov, get_cor_from_cov, corr_estimate_parallel, generate_samples_bag, get_corr_estimate, set_zero_weights_to_very_low\n",
    "from utils import parallel\n",
    "\n",
    "from scipy import stats\n",
    "import pandas as pd\n",
    "import numpy as np"
   ]
  },
  {
   "cell_type": "code",
   "execution_count": 7,
   "metadata": {},
   "outputs": [],
   "source": [
    "rs = get_rs_from_fixed_weighted_degree(degree=16, cluster_size= 20, num_clusters=2,r_out_bound = (0,1,200))"
   ]
  },
  {
   "cell_type": "code",
   "execution_count": 8,
   "metadata": {},
   "outputs": [],
   "source": [
    "mean_covs = [get_mean_cov(num_clusters = 2, cluster_size = 20, r_in = rs[0][i], r_out = rs[1][i]) for i in range(rs.shape[1])]\n",
    "means = [mean_cov[0] for mean_cov in mean_covs]\n",
    "covs = [mean_cov[1] for mean_cov in mean_covs]\n",
    "true_graphs = [get_cor_from_cov(cov) for cov in covs]\n",
    "samples_bags = [generate_samples_bag(means[i], covs[i], bags = 100, sample_size=40, distribution = np.random.multivariate_normal) for i,cov in enumerate(covs)]"
   ]
  },
  {
   "cell_type": "code",
   "execution_count": 9,
   "metadata": {},
   "outputs": [],
   "source": [
    "estimator = corr_estimate_parallel(samples_bags, stats.pearsonr, backend='threading')\n",
    "estimated_graphs_bags = estimator.get_estimations()"
   ]
  },
  {
   "cell_type": "code",
   "execution_count": 11,
   "metadata": {},
   "outputs": [
    {
     "data": {
      "text/plain": [
       "(82, 100, (40, 40))"
      ]
     },
     "execution_count": 11,
     "metadata": {},
     "output_type": "execute_result"
    }
   ],
   "source": [
    "len(estimated_graphs_bags), len(estimated_graphs_bags[0]), estimated_graphs_bags[0][0].shape"
   ]
  },
  {
   "cell_type": "code",
   "execution_count": 12,
   "metadata": {},
   "outputs": [],
   "source": [
    "estimated_graphs_bags2 = [[set_zero_weights_to_very_low(get_corr_estimate(sample, stats.pearsonr)) for sample in samples_bag] for samples_bag in samples_bags]"
   ]
  },
  {
   "cell_type": "code",
   "execution_count": 13,
   "metadata": {},
   "outputs": [
    {
     "data": {
      "text/plain": [
       "(82, 100, (40, 40))"
      ]
     },
     "execution_count": 13,
     "metadata": {},
     "output_type": "execute_result"
    }
   ],
   "source": [
    "len(estimated_graphs_bags2), len(estimated_graphs_bags2[0]), estimated_graphs_bags2[0][0].shape"
   ]
  },
  {
   "cell_type": "code",
   "execution_count": 4,
   "metadata": {},
   "outputs": [],
   "source": [
    "estimator = corr_estimate_parallel(samples_bags, stats.pearsonr, backend='threading')\n",
    "estimated_graphs_bags = estimator.get_estimations()"
   ]
  },
  {
   "cell_type": "code",
   "execution_count": null,
   "metadata": {},
   "outputs": [],
   "source": []
  }
 ],
 "metadata": {
  "interpreter": {
   "hash": "b3ba2566441a7c06988d0923437866b63cedc61552a5af99d1f4fb67d367b25f"
  },
  "kernelspec": {
   "display_name": "Python 3.9.7 ('base')",
   "language": "python",
   "name": "python3"
  },
  "language_info": {
   "codemirror_mode": {
    "name": "ipython",
    "version": 3
   },
   "file_extension": ".py",
   "mimetype": "text/x-python",
   "name": "python",
   "nbconvert_exporter": "python",
   "pygments_lexer": "ipython3",
   "version": "3.9.7"
  },
  "orig_nbformat": 4
 },
 "nbformat": 4,
 "nbformat_minor": 2
}
