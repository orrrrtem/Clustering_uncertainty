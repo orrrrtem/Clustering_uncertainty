{
 "cells": [
  {
   "cell_type": "code",
   "execution_count": 1,
   "metadata": {
    "id": "E3hzhRRgkLm2"
   },
   "outputs": [],
   "source": [
    "import numpy as np\n",
    "from scipy import stats\n",
    "import networkx as nx\n",
    "from networkx.algorithms import tree"
   ]
  },
  {
   "cell_type": "markdown",
   "metadata": {
    "id": "U8UTCYnGS0em"
   },
   "source": [
    "## Statistic utils"
   ]
  },
  {
   "cell_type": "markdown",
   "metadata": {
    "id": "230Qgjg6UJ88"
   },
   "source": [
    "### Genereate mean and cov for multi-variate normal distribtion with r_in and r_out"
   ]
  },
  {
   "cell_type": "code",
   "execution_count": 2,
   "metadata": {
    "id": "A4RjuuS0DZuZ"
   },
   "outputs": [],
   "source": [
    "def get_mean_cov(num_clusters = 2, cluster_size = 50, r_in = 1, r_out = 0):\n",
    "    vertex_count = num_clusters * cluster_size\n",
    "    mean = np.zeros(vertex_count)\n",
    "    r_ins = np.full((cluster_size, cluster_size), r_in)\n",
    "    r_outs = np.full((cluster_size, cluster_size), r_out)\n",
    "    cov = np.block([[np.tile(r_outs,k),r_ins,np.tile(r_outs,num_clusters-k -1)]  for k in range(num_clusters)])\n",
    "    np.fill_diagonal(cov,1)\n",
    "    return mean, cov\n"
   ]
  },
  {
   "cell_type": "markdown",
   "metadata": {
    "id": "TJKjzPzRSxq7"
   },
   "source": [
    "### Compute correlation matrix from passed covariance matrix.\n"
   ]
  },
  {
   "cell_type": "code",
   "execution_count": 3,
   "metadata": {
    "id": "x7nCdsXpw8gd"
   },
   "outputs": [],
   "source": [
    "def get_cor_from_cov(covariance):\n",
    "    v = np.sqrt(np.diag(covariance))\n",
    "    outer_v = np.outer(v, v)\n",
    "    correlation = covariance / outer_v\n",
    "    correlation[covariance == 0] = 0\n",
    "    return correlation"
   ]
  },
  {
   "cell_type": "markdown",
   "metadata": {
    "id": "5PAdykMBUZ-V"
   },
   "source": [
    "### Samples generator"
   ]
  },
  {
   "cell_type": "code",
   "execution_count": 4,
   "metadata": {
    "id": "LzT_vN20Rsp-"
   },
   "outputs": [],
   "source": [
    "def generate_samples_bag(mean, cov, bags = 10, sample_size = 50, distribution = np.random.multivariate_normal):\n",
    "    return np.hsplit(distribution(mean, cov, sample_size * bags).T, bags)\n",
    "\n",
    "#this function is required since networkx does not link vertices with zero weigth\n",
    "#TODO - remove this solutiuion as it slightly moves distribution if zero is in sample\n",
    "def set_zero_weights_to_very_low(adj_matrixes, value = 1e-6):\n",
    "    adj_matrixes[adj_matrixes < value] = value\n",
    "    return adj_matrixes\n",
    "\n",
    "def get_corr_estimate(sample, corr_estimator = stats.pearsonr):\n",
    "    vertex_count = sample.shape[0]\n",
    "    corr_estimate = np.ones((vertex_count, vertex_count))\n",
    "    for i in range(vertex_count):\n",
    "        for j in range(i + 1, vertex_count):\n",
    "            corr, _ = corr_estimator(sample[i], sample[j])\n",
    "            corr = abs(corr)\n",
    "            corr_estimate[i][j] = corr\n",
    "            corr_estimate[j][i] = corr\n",
    "    \n",
    "    return corr_estimate\n",
    "\n"
   ]
  },
  {
   "cell_type": "markdown",
   "metadata": {
    "id": "TIPy6P8YheWe"
   },
   "source": [
    "### Example: samples bag generation\n",
    "\n",
    "**true_graph** - is an adjacency matrix equal to origin correlation matrix from considered multi-variate distribution with mean and cov parameters.\n",
    "\n",
    "**samples_bag** - is a set of samples generated from considered distribution.\n",
    "\n",
    "**estimated_graphs** - is a set of adjecency matrices created via correlation estimation from corresponding sample. \n"
   ]
  },
  {
   "cell_type": "code",
   "execution_count": 5,
   "metadata": {
    "id": "LEkqcNZyWePF"
   },
   "outputs": [],
   "source": [
    "mean, cov = get_mean_cov(num_clusters = 2, cluster_size = 5, r_in = 1, r_out = 0.2)\n",
    "true_graph = get_cor_from_cov(cov)\n",
    "set_zero_weights_to_very_low(true_graph)\n",
    "samples_bag = generate_samples_bag(mean, cov, bags = 10, sample_size=10)\n",
    "estimated_graphs = [set_zero_weights_to_very_low(get_corr_estimate(sample)) for sample in samples_bag]\n"
   ]
  },
  {
   "cell_type": "markdown",
   "metadata": {
    "id": "fbzuEL43RfPP"
   },
   "source": [
    "## Algorithm API\n",
    "\n",
    "Input:\n",
    "\n",
    "*  **graph** - *adjacency matrix represented via numpy array with shape* ($|V|$, $|V|$). Input graph shall follow **completeness** property that is no zero values in the adjacency matrix.\n",
    "*  **num_clusters** - *integer*\n",
    "\n",
    "Output: \n",
    "\n",
    "*   **labels** - *numpy int array*\n",
    "\n",
    "Example:  \n",
    "Two connected vertices are partitioned into two clusters.\n",
    "```\n",
    "print(algo(np.array([1, 0.5], [0.5, 1]), num_clusters = 2))  \n",
    "-> [0, 1]\n",
    "```"
   ]
  },
  {
   "cell_type": "markdown",
   "metadata": {
    "id": "eZKyDvnJmmYi"
   },
   "source": [
    "## Algorithms"
   ]
  },
  {
   "cell_type": "markdown",
   "metadata": {
    "id": "zmarMq7yDMLW"
   },
   "source": [
    "### Threshold Clustering"
   ]
  },
  {
   "cell_type": "code",
   "execution_count": 6,
   "metadata": {
    "id": "VABKpVbbaWx4"
   },
   "outputs": [],
   "source": [
    "def get_community_labels(G):\n",
    "    cc = list(nx.connected_components(G))\n",
    "    labels_ = np.zeros(G.number_of_nodes(), dtype=int)\n",
    "    for k, comm in enumerate(cc):\n",
    "        for label in comm:\n",
    "            labels_[label] = k\n",
    "    return  labels_\n",
    "\n",
    "def get_community_labels_from_less_cc(G, num_clusters):\n",
    "    cc = list(nx.connected_components(G))\n",
    "    labels_ = np.zeros(G.number_of_nodes(), dtype=int)\n",
    "\n",
    "    for k, comm in enumerate(cc):\n",
    "        for label in comm:\n",
    "            labels_[label] = k\n",
    "    return  labels_\n",
    "\n",
    "def get_unique_thresholds(adj_matrix):\n",
    "    tvs = adj_matrix.copy()\n",
    "    tvs = tvs.reshape(tvs.shape[0] * tvs.shape[1])\n",
    "    tvs = np.sort(tvs)\n",
    "    tvs = np.unique(tvs)\n",
    "    return tvs\n",
    "\n",
    "def threshold_clustering(adj_matrix, num_clusters):\n",
    "    adj_matrix_ = adj_matrix.copy()\n",
    "    tvs = get_unique_thresholds(adj_matrix_)\n",
    "    k = 0\n",
    "    for k in range(tvs.shape[0]):\n",
    "        adj_matrix_prev = adj_matrix_.copy()\n",
    "        adj_matrix_[adj_matrix_ < tvs[k]] = 0\n",
    "        G = nx.from_numpy_array(adj_matrix_)\n",
    "        num_components = nx.number_connected_components(G)\n",
    "        if num_components < num_clusters:\n",
    "            continue\n",
    "        elif num_components == num_clusters:\n",
    "            return get_community_labels(G)\n",
    "        else: \n",
    "            for i in range(adj_matrix_prev.shape[0]):\n",
    "                for j in range(adj_matrix_prev.shape[0]):\n",
    "                    if (adj_matrix_prev[i][j] < tvs[k] and adj_matrix_prev[i][j] != 0):\n",
    "                        adj_matrix_prev[i][j] = 0\n",
    "                        G = nx.from_numpy_array(adj_matrix_prev)\n",
    "                        num_components = nx.number_connected_components(G)\n",
    "                        if num_components == num_clusters:\n",
    "                            return get_community_labels(G)\n",
    "    for i in range(adj_matrix_.shape[0]):\n",
    "        for j in range(adj_matrix_.shape[0]):\n",
    "            if (adj_matrix_[i][j] != 0):\n",
    "                adj_matrix_[i][j] = 0\n",
    "                G = nx.from_numpy_array(adj_matrix_)\n",
    "                num_components = nx.number_connected_components(G)\n",
    "                if num_components == num_clusters:\n",
    "                    return get_community_labels(G)\n",
    "\n",
    "    return np.arange(adj_matrix.shape[0])\n",
    "\n",
    "\n",
    "        \n"
   ]
  },
  {
   "cell_type": "code",
   "execution_count": 7,
   "metadata": {
    "colab": {
     "base_uri": "https://localhost:8080/"
    },
    "id": "zXg956ztREoV",
    "outputId": "19aee977-5d04-4c9f-d9a8-b7c93b1d5fe6"
   },
   "outputs": [
    {
     "data": {
      "text/plain": [
       "array([[1. , 1. , 1. , 1. , 1. , 0.2, 0.2, 0.2, 0.2, 0.2],\n",
       "       [1. , 1. , 1. , 1. , 1. , 0.2, 0.2, 0.2, 0.2, 0.2],\n",
       "       [1. , 1. , 1. , 1. , 1. , 0.2, 0.2, 0.2, 0.2, 0.2],\n",
       "       [1. , 1. , 1. , 1. , 1. , 0.2, 0.2, 0.2, 0.2, 0.2],\n",
       "       [1. , 1. , 1. , 1. , 1. , 0.2, 0.2, 0.2, 0.2, 0.2],\n",
       "       [0.2, 0.2, 0.2, 0.2, 0.2, 1. , 1. , 1. , 1. , 1. ],\n",
       "       [0.2, 0.2, 0.2, 0.2, 0.2, 1. , 1. , 1. , 1. , 1. ],\n",
       "       [0.2, 0.2, 0.2, 0.2, 0.2, 1. , 1. , 1. , 1. , 1. ],\n",
       "       [0.2, 0.2, 0.2, 0.2, 0.2, 1. , 1. , 1. , 1. , 1. ],\n",
       "       [0.2, 0.2, 0.2, 0.2, 0.2, 1. , 1. , 1. , 1. , 1. ]])"
      ]
     },
     "execution_count": 7,
     "metadata": {},
     "output_type": "execute_result"
    }
   ],
   "source": [
    "true_graph"
   ]
  },
  {
   "cell_type": "code",
   "execution_count": 8,
   "metadata": {
    "colab": {
     "base_uri": "https://localhost:8080/"
    },
    "id": "QHigkOwZKHAk",
    "outputId": "a631d2a4-3eb8-404c-9e91-93481e1599e4"
   },
   "outputs": [
    {
     "data": {
      "text/plain": [
       "array([0, 0, 0, 0, 0, 1, 1, 1, 1, 1])"
      ]
     },
     "execution_count": 8,
     "metadata": {},
     "output_type": "execute_result"
    }
   ],
   "source": [
    "threshold_clustering(true_graph, 2)"
   ]
  },
  {
   "cell_type": "markdown",
   "metadata": {
    "id": "Vkj73V9WDbcg"
   },
   "source": [
    "### MST-cut clustering"
   ]
  },
  {
   "cell_type": "code",
   "execution_count": 9,
   "metadata": {
    "id": "ENqkxQS7Dg0o"
   },
   "outputs": [],
   "source": [
    "def get_community_labels(G):\n",
    "    cc = list(nx.connected_components(G))\n",
    "    labels_ = np.zeros(G.number_of_nodes(), dtype=int)\n",
    "    for k, comm in enumerate(cc):\n",
    "        for label in comm:\n",
    "            labels_[label] = k\n",
    "    return  labels_\n",
    "\n",
    "def mst_cut_clustering(adj_matrix, num_clusters):\n",
    "    G = nx.from_numpy_array(adj_matrix)\n",
    "    mst = tree.maximum_spanning_edges(G, algorithm=\"kruskal\")\n",
    "    edgelist = list(mst)\n",
    "    edgelist.sort(key=lambda tup: tup[2]['weight'])\n",
    "    cutted_mst = nx.from_edgelist(edgelist) \n",
    "    to_cut = edgelist[0:num_clusters - 1]\n",
    "    cutted_mst.remove_edges_from(to_cut)\n",
    "    return get_community_labels(cutted_mst)"
   ]
  },
  {
   "cell_type": "code",
   "execution_count": 10,
   "metadata": {
    "colab": {
     "base_uri": "https://localhost:8080/"
    },
    "id": "RqvuFEPGHvdz",
    "outputId": "6d4b8bf4-1cb4-4439-d5e4-309d24c616a4"
   },
   "outputs": [
    {
     "data": {
      "text/plain": [
       "array([0, 0, 0, 0, 0, 1, 1, 1, 1, 1])"
      ]
     },
     "execution_count": 10,
     "metadata": {},
     "output_type": "execute_result"
    }
   ],
   "source": [
    "mst_cut_clustering(true_graph, 2)"
   ]
  },
  {
   "cell_type": "markdown",
   "metadata": {
    "id": "xrBE0UmA3wL6"
   },
   "source": [
    "### Spectral clustering algorithms\n",
    "- spectral clustering is an approximate of RatioCut\n",
    "- normalized clustering is an approximate of NCut"
   ]
  },
  {
   "cell_type": "code",
   "execution_count": 11,
   "metadata": {
    "id": "_JM8qkoA3rup"
   },
   "outputs": [],
   "source": [
    "import numpy as np\n",
    "import networkx as nx\n",
    "import numpy.linalg as la\n",
    "from sklearn.cluster import KMeans\n",
    "import matplotlib.pyplot as plt\n",
    "from scipy.sparse import csgraph\n",
    "\n",
    "def spectral_clustering(adj_matrix, num_clusters = 0):\n",
    "  D = np.diag(np.ravel(np.sum(adj_matrix,axis=1)))\n",
    "  L = D - adj_matrix\n",
    "  l, U = la.eigh(L)\n",
    "  kmeans = KMeans(n_clusters=num_clusters).fit(U[:,1:num_clusters])\n",
    "  labels_ = kmeans.labels_\n",
    "  return  labels_\n",
    "\n",
    "def normalized_spectral_clustering(adj_matrix, num_clusters = 0):\n",
    "  l, U = la.eigh(csgraph.laplacian(adj_matrix, normed=True))\n",
    "  kmeans = KMeans(n_clusters=num_clusters).fit(U[:,1:num_clusters])\n",
    "  labels_ = kmeans.labels_\n",
    "  return labels_"
   ]
  },
  {
   "cell_type": "code",
   "execution_count": 12,
   "metadata": {
    "colab": {
     "base_uri": "https://localhost:8080/"
    },
    "id": "moeaxGRxPLUt",
    "outputId": "d936112f-513e-45b6-87b1-b14b7d370de1"
   },
   "outputs": [
    {
     "data": {
      "text/plain": [
       "array([0, 0, 0, 0, 0, 1, 1, 1, 1, 1])"
      ]
     },
     "execution_count": 12,
     "metadata": {},
     "output_type": "execute_result"
    }
   ],
   "source": [
    "spectral_clustering(true_graph, 2)"
   ]
  },
  {
   "cell_type": "code",
   "execution_count": 13,
   "metadata": {
    "colab": {
     "base_uri": "https://localhost:8080/"
    },
    "id": "rP_aDQdSPN6w",
    "outputId": "d1f2c433-411a-4129-8648-7631e7b90baf"
   },
   "outputs": [
    {
     "data": {
      "text/plain": [
       "array([1, 1, 1, 1, 1, 0, 0, 0, 0, 0])"
      ]
     },
     "execution_count": 13,
     "metadata": {},
     "output_type": "execute_result"
    }
   ],
   "source": [
    "normalized_spectral_clustering(true_graph, 2)"
   ]
  },
  {
   "cell_type": "markdown",
   "metadata": {
    "id": "sJDi9-STPmID"
   },
   "source": [
    "## Louvain"
   ]
  },
  {
   "cell_type": "code",
   "execution_count": 14,
   "metadata": {
    "id": "JjtADlUwPoPd"
   },
   "outputs": [],
   "source": [
    "from networkx.algorithms.community import louvain_communities\n",
    "\n",
    "def louvain(adj_matrix, num_clusters = 0):\n",
    "    graph = nx.from_numpy_array(adj_matrix)\n",
    "    comms = louvain_communities(graph)\n",
    "    labels_ = np.zeros(graph.number_of_nodes(), dtype=int)\n",
    "    for k, comm in enumerate(comms):\n",
    "        for vertex in comm:\n",
    "            labels_[vertex] = k\n",
    "    return  labels_"
   ]
  },
  {
   "cell_type": "code",
   "execution_count": 15,
   "metadata": {
    "colab": {
     "base_uri": "https://localhost:8080/",
     "height": 287
    },
    "id": "oQDANdicP2Db",
    "outputId": "9179bcb2-aa3d-4036-9e40-20a9f526a1e8"
   },
   "outputs": [
    {
     "data": {
      "text/plain": [
       "array([0, 0, 0, 0, 0, 1, 1, 1, 1, 1])"
      ]
     },
     "execution_count": 15,
     "metadata": {},
     "output_type": "execute_result"
    }
   ],
   "source": [
    "louvain(true_graph, 2)"
   ]
  },
  {
   "cell_type": "markdown",
   "metadata": {
    "id": "gZtwkrSn-ejW"
   },
   "source": [
    "## Tools for clustering analysis"
   ]
  },
  {
   "cell_type": "code",
   "execution_count": 16,
   "metadata": {
    "id": "qAg89NuJ9T3G"
   },
   "outputs": [],
   "source": [
    "import sklearn\n",
    "import numpy as np\n",
    "import networkx as nx\n",
    "import numpy.linalg as la\n",
    "import scipy.cluster.vq as vq\n",
    "from sklearn.cluster import KMeans\n",
    "import matplotlib.pyplot as plt\n",
    "import pandas as pd\n",
    "import statistics\n",
    "import csv\n",
    "import warnings\n",
    "warnings.filterwarnings('ignore')\n",
    "\n",
    "from tqdm import tqdm\n",
    "\n",
    "from scipy.sparse import csgraph\n",
    "from sklearn.metrics.cluster import rand_score\n",
    "#from sklearn.metrics import rand_score\n",
    "from sklearn.metrics.cluster import adjusted_rand_score\n",
    "\n",
    "import networkx.algorithms.community as nx_comm\n",
    "\n",
    "#from matplotlib.pyplot import figure\n",
    "\n",
    "\n",
    "def get_true_labels(num_groups, num_members):\n",
    "    true_labels = np.zeros(num_groups * num_members, dtype=int)\n",
    "    for i in range(0, num_groups):\n",
    "        for j in  range(0, num_members):\n",
    "            true_labels[i*num_members + j] = i\n",
    "    return true_labels\n",
    "\n",
    "def get_partition(labels):\n",
    "    partition = []\n",
    "    for i in range(labels.max() + 1):\n",
    "        partition.append(np.where(labels == i)[0])\n",
    "    return partition\n",
    "\n",
    "\n",
    "def get_rs_by_relation(r_out = 0.1, relation = np.linspace( 1, 10, 10)):\n",
    "    r_outs = np.full(relation.shape[0], r_out)\n",
    "    r_ins = np.array([x*r_out for x in relation])\n",
    "    return np.vstack((r_ins,r_outs))\n",
    "\n",
    "def compute_clustering(rs, algos = [mst_cut_clustering], num_clusters = 2, cluster_size=5, sample_vol = 10, num_repeats = 200):\n",
    "    mean_covs = [get_mean_cov(num_clusters = num_clusters, cluster_size = cluster_size, r_in = rs[0][i], r_out = rs[1][i]) for i in range(rs.shape[1])]\n",
    "    means = [mean_cov[0] for mean_cov in mean_covs]\n",
    "    covs = [mean_cov[1] for mean_cov in mean_covs]\n",
    "    true_graphs = [get_cor_from_cov(cov) for cov in covs]\n",
    "    [set_zero_weights_to_very_low(true_graph) for true_graph in true_graphs]\n",
    "    samples_bags = [generate_samples_bag(means[i], covs[i], bags = num_repeats, sample_size=sample_vol) for i,cov in enumerate(covs)]\n",
    "    print('Generating graphs started')\n",
    "    estimated_graphs_bags = [[set_zero_weights_to_very_low(get_corr_estimate(sample)) for sample in samples_bag] for samples_bag in tqdm(samples_bags)]\n",
    "    print('Generating graphs complete')\n",
    "\n",
    "    true_labels = get_true_labels(num_clusters, cluster_size)\n",
    "\n",
    "    result = dict()    \n",
    "\n",
    "    for algo in algos:\n",
    "        algo_result = []\n",
    "        print(algo.__name__ + ' started')\n",
    "        for idx, estimated_graphs_bag in enumerate(tqdm(estimated_graphs_bags)):\n",
    "            repeat_result = []\n",
    "            for estimated_graph in estimated_graphs_bag:\n",
    "                repeat_result.append(algo(estimated_graph, num_clusters))\n",
    "            algo_result.append(repeat_result)\n",
    "        print(algo.__name__ + ' complete')\n",
    "        result[algo.__name__] = algo_result\n",
    "\n",
    "    return true_labels, result, estimated_graphs_bags\n",
    "\n",
    "def get_cmap(n, name='hsv'):\n",
    "    '''Returns a function that maps each index in 0, 1, ..., n-1 to a distinct \n",
    "    RGB color; the keyword argument name must be a standard mpl colormap name.'''\n",
    "    return plt.cm.get_cmap(name, n)\n",
    "\n",
    "\n",
    "def nested_dict_to_dict(x):\n",
    "    y = dict()\n",
    "    for k1 in x:\n",
    "        for k2 in x[k1]:\n",
    "            y[(k1,k2)]=x[k1][k2]\n",
    "    return y\n",
    "\n",
    "def plot_quality_by_relation(rs, metrics, concrete_metrics=None):\n",
    "    #figure(figsize=(10, 12), dpi=100)\n",
    "    fig, ax = plt.subplots()\n",
    "\n",
    "    colors = ['-b', '-r', '-g', '-y', '-p', '-c', '-m']\n",
    "    #if len(metrics) * len(list(metrics.values())[0]) > len(colors):\n",
    "    reduced_metrics = nested_dict_to_dict(metrics)\n",
    "    #colors = get_cmap(len(reduced_metrics))\n",
    "    if(concrete_metrics):\n",
    "        for i, algo_metric in enumerate(reduced_metrics):\n",
    "            if algo_metric[1] in concrete_metrics:\n",
    "                ax.plot(rs[0], reduced_metrics[algo_metric], colors[i], label=algo_metric[1] + ' ' + algo_metric[0])\n",
    "    else:\n",
    "        for i, algo_metric in enumerate(reduced_metrics):\n",
    "                ax.plot(rs[0], reduced_metrics[algo_metric], colors[i], label=algo_metric[1] + ' ' + algo_metric[0])\n",
    "    #ax.axis('equal')#ax.axis('p_in')\n",
    "    leg = ax.legend();\n",
    "    #plt.plot(p_ins[:len(metric)], metric)\n",
    "    plt.xlabel('R_in', size=10)\n",
    "    plt.ylabel('Metric value', size=10)\n",
    "    plt.title('R_out=' + str(rs[1][0]), size=14)\n",
    "    return\n",
    "\n",
    "\n",
    "def validation(true_labels, result, estimated_graphs_bags):\n",
    "    metrics_by_algos = dict()\n",
    "    for algo in result:\n",
    "        metrics = dict()\n",
    "        metrics['RI'] = [np.mean(np.array([rand_score(true_labels, labels) for labels in labels_repeated])) for labels_repeated in result[algo]]\n",
    "        metrics['ARI'] = [np.mean(np.array([adjusted_rand_score(true_labels, labels) for labels in labels_repeated])) for labels_repeated in result[algo]]\n",
    "        #metrics['modularity'] = [np.mean(np.array([nx_comm.modularity(true_labels, get_partition(labels)) for labels in labels_repeated])) for labels_repeated in result[algo]]\n",
    "        metrics_by_algos[algo] = metrics\n",
    "    plot_quality_by_relation(rs, metrics_by_algos)\n",
    "    return metrics_by_algos\n"
   ]
  },
  {
   "cell_type": "markdown",
   "metadata": {
    "id": "shmJs2mskLWi"
   },
   "source": [
    "## Experiment 1: Comparison with fixed p_out=0.05 and variating p_in/p_out from 1 to 20 "
   ]
  },
  {
   "cell_type": "code",
   "execution_count": 36,
   "metadata": {
    "id": "qC3Zg07Nm3gl"
   },
   "outputs": [],
   "source": [
    "rs = get_rs_by_relation(r_out = 0.05, relation = np.linspace( 1, 20, 40))"
   ]
  },
  {
   "cell_type": "code",
   "execution_count": 37,
   "metadata": {},
   "outputs": [
    {
     "name": "stdout",
     "output_type": "stream",
     "text": [
      "Generating graphs started\n"
     ]
    },
    {
     "name": "stderr",
     "output_type": "stream",
     "text": [
      "100%|██████████| 40/40 [00:07<00:00,  5.39it/s]\n"
     ]
    },
    {
     "name": "stdout",
     "output_type": "stream",
     "text": [
      "Generating graphs complete\n"
     ]
    },
    {
     "name": "stderr",
     "output_type": "stream",
     "text": [
      "100%|██████████| 40/40 [00:24<00:00,  1.63it/s]\n"
     ]
    },
    {
     "name": "stdout",
     "output_type": "stream",
     "text": [
      "spectral_clustering complete\n"
     ]
    },
    {
     "name": "stderr",
     "output_type": "stream",
     "text": [
      "100%|██████████| 40/40 [00:24<00:00,  1.63it/s]\n"
     ]
    },
    {
     "name": "stdout",
     "output_type": "stream",
     "text": [
      "normalized_spectral_clustering complete\n"
     ]
    },
    {
     "name": "stderr",
     "output_type": "stream",
     "text": [
      "100%|██████████| 40/40 [00:03<00:00, 10.82it/s]"
     ]
    },
    {
     "name": "stdout",
     "output_type": "stream",
     "text": [
      "louvain complete\n"
     ]
    },
    {
     "name": "stderr",
     "output_type": "stream",
     "text": [
      "\n"
     ]
    }
   ],
   "source": [
    "true_labels, result, estimated_graphs_bags= compute_clustering(\n",
    "    rs,\n",
    "    algos=[spectral_clustering, normalized_spectral_clustering, louvain ],\n",
    "    num_repeats=200)"
   ]
  },
  {
   "cell_type": "code",
   "execution_count": 38,
   "metadata": {},
   "outputs": [
    {
     "data": {
      "image/png": "[encoded data removed]",
      "text/plain": [
       "<Figure size 432x288 with 1 Axes>"
      ]
     },
     "metadata": {
      "needs_background": "light"
     },
     "output_type": "display_data"
    }
   ],
   "source": [
    "metrics10 = validation(true_labels, result, estimated_graphs_bags) "
   ]
  },
  {
   "cell_type": "code",
   "execution_count": 39,
   "metadata": {},
   "outputs": [
    {
     "name": "stdout",
     "output_type": "stream",
     "text": [
      "Generating graphs started\n"
     ]
    },
    {
     "name": "stderr",
     "output_type": "stream",
     "text": [
      "100%|██████████| 40/40 [00:14<00:00,  2.72it/s]\n"
     ]
    },
    {
     "name": "stdout",
     "output_type": "stream",
     "text": [
      "Generating graphs complete\n"
     ]
    },
    {
     "name": "stderr",
     "output_type": "stream",
     "text": [
      "100%|██████████| 40/40 [00:26<00:00,  1.50it/s]\n"
     ]
    },
    {
     "name": "stdout",
     "output_type": "stream",
     "text": [
      "spectral_clustering complete\n"
     ]
    },
    {
     "name": "stderr",
     "output_type": "stream",
     "text": [
      "100%|██████████| 40/40 [00:24<00:00,  1.65it/s]\n"
     ]
    },
    {
     "name": "stdout",
     "output_type": "stream",
     "text": [
      "normalized_spectral_clustering complete\n"
     ]
    },
    {
     "name": "stderr",
     "output_type": "stream",
     "text": [
      "100%|██████████| 40/40 [00:03<00:00, 10.78it/s]\n"
     ]
    },
    {
     "name": "stdout",
     "output_type": "stream",
     "text": [
      "louvain complete\n"
     ]
    },
    {
     "data": {
      "image/png": "[encoded data removed]",
      "text/plain": [
       "<Figure size 432x288 with 1 Axes>"
      ]
     },
     "metadata": {
      "needs_background": "light"
     },
     "output_type": "display_data"
    }
   ],
   "source": [
    "true_labels, result, estimated_graphs_bags= compute_clustering(\n",
    "    rs,\n",
    "    algos=[spectral_clustering, normalized_spectral_clustering, louvain ],\n",
    "    sample_vol=20,\n",
    "    num_repeats=200)\n",
    "\n",
    "metrics20 = validation(true_labels, result, estimated_graphs_bags) "
   ]
  },
  {
   "cell_type": "code",
   "execution_count": 40,
   "metadata": {},
   "outputs": [
    {
     "name": "stdout",
     "output_type": "stream",
     "text": [
      "Generating graphs started\n"
     ]
    },
    {
     "name": "stderr",
     "output_type": "stream",
     "text": [
      "100%|██████████| 40/40 [00:07<00:00,  5.38it/s]\n"
     ]
    },
    {
     "name": "stdout",
     "output_type": "stream",
     "text": [
      "Generating graphs complete\n"
     ]
    },
    {
     "name": "stderr",
     "output_type": "stream",
     "text": [
      "100%|██████████| 40/40 [00:23<00:00,  1.68it/s]\n"
     ]
    },
    {
     "name": "stdout",
     "output_type": "stream",
     "text": [
      "spectral_clustering complete\n"
     ]
    },
    {
     "name": "stderr",
     "output_type": "stream",
     "text": [
      "100%|██████████| 40/40 [00:23<00:00,  1.68it/s]\n"
     ]
    },
    {
     "name": "stdout",
     "output_type": "stream",
     "text": [
      "normalized_spectral_clustering complete\n"
     ]
    },
    {
     "name": "stderr",
     "output_type": "stream",
     "text": [
      "100%|██████████| 40/40 [00:03<00:00, 11.43it/s]\n"
     ]
    },
    {
     "name": "stdout",
     "output_type": "stream",
     "text": [
      "louvain complete\n"
     ]
    },
    {
     "data": {
      "image/png": "[encoded data removed]",
      "text/plain": [
       "<Figure size 432x288 with 1 Axes>"
      ]
     },
     "metadata": {
      "needs_background": "light"
     },
     "output_type": "display_data"
    }
   ],
   "source": [
    "true_labels, result, estimated_graphs_bags= compute_clustering(\n",
    "    rs,\n",
    "    algos=[spectral_clustering, normalized_spectral_clustering, louvain ],\n",
    "    sample_vol=100,\n",
    "    num_repeats=200)\n",
    "\n",
    "metrics100 = validation(true_labels, result, estimated_graphs_bags) "
   ]
  },
  {
   "cell_type": "markdown",
   "metadata": {},
   "source": [
    "Clustering uncertainty: sample volumns 10, 20 and 100"
   ]
  },
  {
   "cell_type": "code",
   "execution_count": 46,
   "metadata": {},
   "outputs": [
    {
     "data": {
      "image/png": "[encoded data removed]",
      "text/plain": [
       "<Figure size 432x288 with 1 Axes>"
      ]
     },
     "metadata": {
      "needs_background": "light"
     },
     "output_type": "display_data"
    },
    {
     "data": {
      "image/png": "[encoded data removed]",
      "text/plain": [
       "<Figure size 432x288 with 1 Axes>"
      ]
     },
     "metadata": {
      "needs_background": "light"
     },
     "output_type": "display_data"
    },
    {
     "data": {
      "image/png": "[encoded data removed]",
      "text/plain": [
       "<Figure size 432x288 with 1 Axes>"
      ]
     },
     "metadata": {
      "needs_background": "light"
     },
     "output_type": "display_data"
    }
   ],
   "source": [
    "list(metrics10.keys())\n",
    "\n",
    "for algo in metrics10.keys():\n",
    "    df = pd.DataFrame(list(zip(rs[0], metrics10[algo]['ARI'], metrics20[algo]['ARI'], metrics100[algo]['ARI'])), columns = ['r_in', 'sample 10', 'sample 20', 'sample 30']).set_index(['r_in'])\n",
    "    df.plot(title=algo, ylabel = 'metric value')"
   ]
  },
  {
   "cell_type": "code",
   "execution_count": 31,
   "metadata": {
    "colab": {
     "base_uri": "https://localhost:8080/",
     "height": 708
    },
    "id": "V3JVKxuzDtzZ",
    "outputId": "3b893ea0-c964-4572-bba1-f536a723794a"
   },
   "outputs": [
    {
     "data": {
      "text/html": [
       "<div>\n",
       "<style scoped>\n",
       "    .dataframe tbody tr th:only-of-type {\n",
       "        vertical-align: middle;\n",
       "    }\n",
       "\n",
       "    .dataframe tbody tr th {\n",
       "        vertical-align: top;\n",
       "    }\n",
       "\n",
       "    .dataframe thead tr th {\n",
       "        text-align: left;\n",
       "    }\n",
       "\n",
       "    .dataframe thead tr:last-of-type th {\n",
       "        text-align: right;\n",
       "    }\n",
       "</style>\n",
       "<table border=\"1\" class=\"dataframe\">\n",
       "  <thead>\n",
       "    <tr>\n",
       "      <th></th>\n",
       "      <th colspan=\"2\" halign=\"left\">spectral_clustering</th>\n",
       "      <th colspan=\"2\" halign=\"left\">normalized_spectral_clustering</th>\n",
       "      <th colspan=\"2\" halign=\"left\">louvain</th>\n",
       "    </tr>\n",
       "    <tr>\n",
       "      <th></th>\n",
       "      <th>RI</th>\n",
       "      <th>ARI</th>\n",
       "      <th>RI</th>\n",
       "      <th>ARI</th>\n",
       "      <th>RI</th>\n",
       "      <th>ARI</th>\n",
       "    </tr>\n",
       "    <tr>\n",
       "      <th>r_in</th>\n",
       "      <th></th>\n",
       "      <th></th>\n",
       "      <th></th>\n",
       "      <th></th>\n",
       "      <th></th>\n",
       "      <th></th>\n",
       "    </tr>\n",
       "  </thead>\n",
       "  <tbody>\n",
       "    <tr>\n",
       "      <th>0.05</th>\n",
       "      <td>0.480889</td>\n",
       "      <td>-0.003608</td>\n",
       "      <td>0.500667</td>\n",
       "      <td>-0.001880</td>\n",
       "      <td>0.544778</td>\n",
       "      <td>-0.008328</td>\n",
       "    </tr>\n",
       "    <tr>\n",
       "      <th>0.10</th>\n",
       "      <td>0.490000</td>\n",
       "      <td>0.013560</td>\n",
       "      <td>0.517444</td>\n",
       "      <td>0.033509</td>\n",
       "      <td>0.554778</td>\n",
       "      <td>0.014719</td>\n",
       "    </tr>\n",
       "    <tr>\n",
       "      <th>0.15</th>\n",
       "      <td>0.500111</td>\n",
       "      <td>0.033402</td>\n",
       "      <td>0.539778</td>\n",
       "      <td>0.076671</td>\n",
       "      <td>0.565556</td>\n",
       "      <td>0.040077</td>\n",
       "    </tr>\n",
       "    <tr>\n",
       "      <th>0.20</th>\n",
       "      <td>0.520556</td>\n",
       "      <td>0.075592</td>\n",
       "      <td>0.593889</td>\n",
       "      <td>0.185770</td>\n",
       "      <td>0.582667</td>\n",
       "      <td>0.078363</td>\n",
       "    </tr>\n",
       "    <tr>\n",
       "      <th>0.25</th>\n",
       "      <td>0.542222</td>\n",
       "      <td>0.118690</td>\n",
       "      <td>0.636778</td>\n",
       "      <td>0.271981</td>\n",
       "      <td>0.604444</td>\n",
       "      <td>0.128022</td>\n",
       "    </tr>\n",
       "    <tr>\n",
       "      <th>0.30</th>\n",
       "      <td>0.609556</td>\n",
       "      <td>0.245459</td>\n",
       "      <td>0.710556</td>\n",
       "      <td>0.419319</td>\n",
       "      <td>0.619444</td>\n",
       "      <td>0.163440</td>\n",
       "    </tr>\n",
       "    <tr>\n",
       "      <th>0.35</th>\n",
       "      <td>0.657556</td>\n",
       "      <td>0.338182</td>\n",
       "      <td>0.792444</td>\n",
       "      <td>0.584481</td>\n",
       "      <td>0.647889</td>\n",
       "      <td>0.228668</td>\n",
       "    </tr>\n",
       "    <tr>\n",
       "      <th>0.40</th>\n",
       "      <td>0.719222</td>\n",
       "      <td>0.460681</td>\n",
       "      <td>0.854667</td>\n",
       "      <td>0.708640</td>\n",
       "      <td>0.675556</td>\n",
       "      <td>0.291598</td>\n",
       "    </tr>\n",
       "    <tr>\n",
       "      <th>0.45</th>\n",
       "      <td>0.780000</td>\n",
       "      <td>0.575309</td>\n",
       "      <td>0.902667</td>\n",
       "      <td>0.805116</td>\n",
       "      <td>0.717333</td>\n",
       "      <td>0.385699</td>\n",
       "    </tr>\n",
       "    <tr>\n",
       "      <th>0.50</th>\n",
       "      <td>0.845667</td>\n",
       "      <td>0.701768</td>\n",
       "      <td>0.952222</td>\n",
       "      <td>0.904183</td>\n",
       "      <td>0.764667</td>\n",
       "      <td>0.491003</td>\n",
       "    </tr>\n",
       "    <tr>\n",
       "      <th>0.55</th>\n",
       "      <td>0.906444</td>\n",
       "      <td>0.818784</td>\n",
       "      <td>0.974889</td>\n",
       "      <td>0.949456</td>\n",
       "      <td>0.825667</td>\n",
       "      <td>0.625853</td>\n",
       "    </tr>\n",
       "    <tr>\n",
       "      <th>0.60</th>\n",
       "      <td>0.920889</td>\n",
       "      <td>0.847498</td>\n",
       "      <td>0.985000</td>\n",
       "      <td>0.969776</td>\n",
       "      <td>0.871333</td>\n",
       "      <td>0.724769</td>\n",
       "    </tr>\n",
       "    <tr>\n",
       "      <th>0.65</th>\n",
       "      <td>0.955111</td>\n",
       "      <td>0.913161</td>\n",
       "      <td>0.986889</td>\n",
       "      <td>0.973815</td>\n",
       "      <td>0.924444</td>\n",
       "      <td>0.840354</td>\n",
       "    </tr>\n",
       "    <tr>\n",
       "      <th>0.70</th>\n",
       "      <td>0.983667</td>\n",
       "      <td>0.967801</td>\n",
       "      <td>0.997000</td>\n",
       "      <td>0.993955</td>\n",
       "      <td>0.970556</td>\n",
       "      <td>0.937997</td>\n",
       "    </tr>\n",
       "    <tr>\n",
       "      <th>0.75</th>\n",
       "      <td>0.999000</td>\n",
       "      <td>0.997985</td>\n",
       "      <td>1.000000</td>\n",
       "      <td>1.000000</td>\n",
       "      <td>0.989444</td>\n",
       "      <td>0.977883</td>\n",
       "    </tr>\n",
       "    <tr>\n",
       "      <th>0.80</th>\n",
       "      <td>0.995556</td>\n",
       "      <td>0.991471</td>\n",
       "      <td>1.000000</td>\n",
       "      <td>1.000000</td>\n",
       "      <td>0.991778</td>\n",
       "      <td>0.982861</td>\n",
       "    </tr>\n",
       "    <tr>\n",
       "      <th>0.85</th>\n",
       "      <td>1.000000</td>\n",
       "      <td>1.000000</td>\n",
       "      <td>1.000000</td>\n",
       "      <td>1.000000</td>\n",
       "      <td>0.997778</td>\n",
       "      <td>0.995253</td>\n",
       "    </tr>\n",
       "    <tr>\n",
       "      <th>0.90</th>\n",
       "      <td>1.000000</td>\n",
       "      <td>1.000000</td>\n",
       "      <td>1.000000</td>\n",
       "      <td>1.000000</td>\n",
       "      <td>0.999556</td>\n",
       "      <td>0.999082</td>\n",
       "    </tr>\n",
       "    <tr>\n",
       "      <th>0.95</th>\n",
       "      <td>1.000000</td>\n",
       "      <td>1.000000</td>\n",
       "      <td>1.000000</td>\n",
       "      <td>1.000000</td>\n",
       "      <td>1.000000</td>\n",
       "      <td>1.000000</td>\n",
       "    </tr>\n",
       "    <tr>\n",
       "      <th>1.00</th>\n",
       "      <td>1.000000</td>\n",
       "      <td>1.000000</td>\n",
       "      <td>1.000000</td>\n",
       "      <td>1.000000</td>\n",
       "      <td>1.000000</td>\n",
       "      <td>1.000000</td>\n",
       "    </tr>\n",
       "  </tbody>\n",
       "</table>\n",
       "</div>"
      ],
      "text/plain": [
       "     spectral_clustering           normalized_spectral_clustering            \\\n",
       "                      RI       ARI                             RI       ARI   \n",
       "r_in                                                                          \n",
       "0.05            0.480889 -0.003608                       0.500667 -0.001880   \n",
       "0.10            0.490000  0.013560                       0.517444  0.033509   \n",
       "0.15            0.500111  0.033402                       0.539778  0.076671   \n",
       "0.20            0.520556  0.075592                       0.593889  0.185770   \n",
       "0.25            0.542222  0.118690                       0.636778  0.271981   \n",
       "0.30            0.609556  0.245459                       0.710556  0.419319   \n",
       "0.35            0.657556  0.338182                       0.792444  0.584481   \n",
       "0.40            0.719222  0.460681                       0.854667  0.708640   \n",
       "0.45            0.780000  0.575309                       0.902667  0.805116   \n",
       "0.50            0.845667  0.701768                       0.952222  0.904183   \n",
       "0.55            0.906444  0.818784                       0.974889  0.949456   \n",
       "0.60            0.920889  0.847498                       0.985000  0.969776   \n",
       "0.65            0.955111  0.913161                       0.986889  0.973815   \n",
       "0.70            0.983667  0.967801                       0.997000  0.993955   \n",
       "0.75            0.999000  0.997985                       1.000000  1.000000   \n",
       "0.80            0.995556  0.991471                       1.000000  1.000000   \n",
       "0.85            1.000000  1.000000                       1.000000  1.000000   \n",
       "0.90            1.000000  1.000000                       1.000000  1.000000   \n",
       "0.95            1.000000  1.000000                       1.000000  1.000000   \n",
       "1.00            1.000000  1.000000                       1.000000  1.000000   \n",
       "\n",
       "       louvain            \n",
       "            RI       ARI  \n",
       "r_in                      \n",
       "0.05  0.544778 -0.008328  \n",
       "0.10  0.554778  0.014719  \n",
       "0.15  0.565556  0.040077  \n",
       "0.20  0.582667  0.078363  \n",
       "0.25  0.604444  0.128022  \n",
       "0.30  0.619444  0.163440  \n",
       "0.35  0.647889  0.228668  \n",
       "0.40  0.675556  0.291598  \n",
       "0.45  0.717333  0.385699  \n",
       "0.50  0.764667  0.491003  \n",
       "0.55  0.825667  0.625853  \n",
       "0.60  0.871333  0.724769  \n",
       "0.65  0.924444  0.840354  \n",
       "0.70  0.970556  0.937997  \n",
       "0.75  0.989444  0.977883  \n",
       "0.80  0.991778  0.982861  \n",
       "0.85  0.997778  0.995253  \n",
       "0.90  0.999556  0.999082  \n",
       "0.95  1.000000  1.000000  \n",
       "1.00  1.000000  1.000000  "
      ]
     },
     "execution_count": 31,
     "metadata": {},
     "output_type": "execute_result"
    }
   ],
   "source": [
    "df20= pd.DataFrame(nested_dict_to_dict(metrics20))\n",
    "df20['r_in'] = rs[0]\n",
    "df20.set_index('r_in', inplace=True)\n",
    "df20.plot()"
   ]
  }
 ],
 "metadata": {
  "colab": {
   "collapsed_sections": [],
   "name": "clustering_uncertainty.ipynb",
   "provenance": []
  },
  "kernelspec": {
   "display_name": "Python 3 (ipykernel)",
   "language": "python",
   "name": "python3"
  },
  "language_info": {
   "codemirror_mode": {
    "name": "ipython",
    "version": 3
   },
   "file_extension": ".py",
   "mimetype": "text/x-python",
   "name": "python",
   "nbconvert_exporter": "python",
   "pygments_lexer": "ipython3",
   "version": "3.9.7"
  }
 },
 "nbformat": 4,
 "nbformat_minor": 1
}
