{
 "cells": [
  {
   "cell_type": "code",
   "execution_count": 3,
   "metadata": {
    "id": "E3hzhRRgkLm2"
   },
   "outputs": [],
   "source": [
    "import numpy as np\n",
    "from scipy import stats\n",
    "import networkx as nx\n",
    "from networkx.algorithms import tree"
   ]
  },
  {
   "cell_type": "markdown",
   "metadata": {
    "id": "U8UTCYnGS0em"
   },
   "source": [
    "## Statistic utils"
   ]
  },
  {
   "cell_type": "markdown",
   "metadata": {
    "id": "230Qgjg6UJ88"
   },
   "source": [
    "### Genereate mean and cov for multi-variate normal distribtion with r_in and r_out"
   ]
  },
  {
   "cell_type": "code",
   "execution_count": 4,
   "metadata": {
    "id": "A4RjuuS0DZuZ"
   },
   "outputs": [],
   "source": [
    "def get_mean_cov(num_clusters = 2, cluster_size = 50, r_in = 1, r_out = 0):\n",
    "    vertex_count = num_clusters * cluster_size\n",
    "    mean = np.zeros(vertex_count)\n",
    "    r_ins = np.full((cluster_size, cluster_size), r_in)\n",
    "    r_outs = np.full((cluster_size, cluster_size), r_out)\n",
    "    cov = np.block([[np.tile(r_outs,k),r_ins,np.tile(r_outs,num_clusters-k -1)]  for k in range(num_clusters)])\n",
    "    np.fill_diagonal(cov,1)\n",
    "    return mean, cov\n"
   ]
  },
  {
   "cell_type": "markdown",
   "metadata": {
    "id": "TJKjzPzRSxq7"
   },
   "source": [
    "### Compute correlation matrix from passed covariance matrix.\n"
   ]
  },
  {
   "cell_type": "code",
   "execution_count": 5,
   "metadata": {
    "id": "x7nCdsXpw8gd"
   },
   "outputs": [],
   "source": [
    "def get_cor_from_cov(covariance):\n",
    "    v = np.sqrt(np.diag(covariance))\n",
    "    outer_v = np.outer(v, v)\n",
    "    correlation = covariance / outer_v\n",
    "    correlation[covariance == 0] = 0\n",
    "    return correlation"
   ]
  },
  {
   "cell_type": "markdown",
   "metadata": {
    "id": "5PAdykMBUZ-V"
   },
   "source": [
    "### Samples generator"
   ]
  },
  {
   "cell_type": "code",
   "execution_count": 6,
   "metadata": {
    "id": "LzT_vN20Rsp-"
   },
   "outputs": [],
   "source": [
    "def generate_samples_bag(mean, cov, bags = 10, sample_size = 50, distribution = np.random.multivariate_normal):\n",
    "    return np.hsplit(distribution(mean, cov, sample_size * bags).T, bags)\n",
    "\n",
    "#this function is required since networkx does not link vertices with zero weigth\n",
    "#TODO - remove this solutiuion as it slightly moves distribution if zero is in sample\n",
    "def set_zero_weights_to_very_low(adj_matrixes, value = 1e-6):\n",
    "    adj_matrixes[adj_matrixes < value] = value\n",
    "    return adj_matrixes\n",
    "\n",
    "def get_corr_estimate(sample, corr_estimator = stats.pearsonr):\n",
    "    vertex_count = sample.shape[0]\n",
    "    corr_estimate = np.ones((vertex_count, vertex_count))\n",
    "    for i in range(vertex_count):\n",
    "        for j in range(i + 1, vertex_count):\n",
    "            corr, _ = corr_estimator(sample[i], sample[j])\n",
    "            corr = abs(corr)\n",
    "            corr_estimate[i][j] = corr\n",
    "            corr_estimate[j][i] = corr\n",
    "    \n",
    "    return corr_estimate\n",
    "\n"
   ]
  },
  {
   "cell_type": "markdown",
   "metadata": {
    "id": "TIPy6P8YheWe"
   },
   "source": [
    "### Example: samples bag generation\n",
    "\n",
    "**true_graph** - is an adjacency matrix equal to origin correlation matrix from considered multi-variate distribution with mean and cov parameters.\n",
    "\n",
    "**samples_bag** - is a set of samples generated from considered distribution.\n",
    "\n",
    "**estimated_graphs** - is a set of adjecency matrices created via correlation estimation from corresponding sample. \n"
   ]
  },
  {
   "cell_type": "code",
   "execution_count": 7,
   "metadata": {
    "id": "LEkqcNZyWePF"
   },
   "outputs": [],
   "source": [
    "mean, cov = get_mean_cov(num_clusters = 2, cluster_size = 5, r_in = 1, r_out = 0.2)\n",
    "true_graph = get_cor_from_cov(cov)\n",
    "set_zero_weights_to_very_low(true_graph)\n",
    "samples_bag = generate_samples_bag(mean, cov, bags = 10, sample_size=10)\n",
    "estimated_graphs = [set_zero_weights_to_very_low(get_corr_estimate(sample)) for sample in samples_bag]\n"
   ]
  },
  {
   "cell_type": "markdown",
   "metadata": {
    "id": "fbzuEL43RfPP"
   },
   "source": [
    "## Algorithm API\n",
    "\n",
    "Input:\n",
    "\n",
    "*  **graph** - *adjacency matrix represented via numpy array with shape* ($|V|$, $|V|$). Input graph shall follow **completeness** property that is no zero values in the adjacency matrix.\n",
    "*  **num_clusters** - *integer*\n",
    "\n",
    "Output: \n",
    "\n",
    "*   **labels** - *numpy int array*\n",
    "\n",
    "Example:  \n",
    "Two connected vertices are partitioned into two clusters.\n",
    "```\n",
    "print(algo(np.array([1, 0.5], [0.5, 1]), num_clusters = 2))  \n",
    "-> [0, 1]\n",
    "```"
   ]
  },
  {
   "cell_type": "markdown",
   "metadata": {
    "id": "eZKyDvnJmmYi"
   },
   "source": [
    "## Algorithms"
   ]
  },
  {
   "cell_type": "markdown",
   "metadata": {
    "id": "zmarMq7yDMLW"
   },
   "source": [
    "### Threshold Clustering"
   ]
  },
  {
   "cell_type": "code",
   "execution_count": 8,
   "metadata": {
    "id": "VABKpVbbaWx4"
   },
   "outputs": [],
   "source": [
    "def get_community_labels(G):\n",
    "    cc = list(nx.connected_components(G))\n",
    "    labels_ = np.zeros(G.number_of_nodes(), dtype=int)\n",
    "    for k, comm in enumerate(cc):\n",
    "        for label in comm:\n",
    "            labels_[label] = k\n",
    "    return  labels_\n",
    "\n",
    "def get_community_labels_from_less_cc(G, num_clusters):\n",
    "    cc = list(nx.connected_components(G))\n",
    "    labels_ = np.zeros(G.number_of_nodes(), dtype=int)\n",
    "\n",
    "    for k, comm in enumerate(cc):\n",
    "        for label in comm:\n",
    "            labels_[label] = k\n",
    "    return  labels_\n",
    "\n",
    "def get_unique_thresholds(adj_matrix):\n",
    "    tvs = adj_matrix.copy()\n",
    "    tvs = tvs.reshape(tvs.shape[0] * tvs.shape[1])\n",
    "    tvs = np.sort(tvs)\n",
    "    tvs = np.unique(tvs)\n",
    "    return tvs\n",
    "\n",
    "def threshold_clustering(adj_matrix, num_clusters):\n",
    "    adj_matrix_ = adj_matrix.copy()\n",
    "    tvs = get_unique_thresholds(adj_matrix_)\n",
    "    k = 0\n",
    "    for k in range(tvs.shape[0]):\n",
    "        adj_matrix_prev = adj_matrix_.copy()\n",
    "        adj_matrix_[adj_matrix_ < tvs[k]] = 0\n",
    "        G = nx.from_numpy_array(adj_matrix_)\n",
    "        num_components = nx.number_connected_components(G)\n",
    "        if num_components < num_clusters:\n",
    "            continue\n",
    "        elif num_components == num_clusters:\n",
    "            return get_community_labels(G)\n",
    "        else: \n",
    "            for i in range(adj_matrix_prev.shape[0]):\n",
    "                for j in range(adj_matrix_prev.shape[0]):\n",
    "                    if (adj_matrix_prev[i][j] < tvs[k] and adj_matrix_prev[i][j] != 0):\n",
    "                        adj_matrix_prev[i][j] = 0\n",
    "                        G = nx.from_numpy_array(adj_matrix_prev)\n",
    "                        num_components = nx.number_connected_components(G)\n",
    "                        if num_components == num_clusters:\n",
    "                            return get_community_labels(G)\n",
    "    for i in range(adj_matrix_.shape[0]):\n",
    "        for j in range(adj_matrix_.shape[0]):\n",
    "            if (adj_matrix_[i][j] != 0):\n",
    "                adj_matrix_[i][j] = 0\n",
    "                G = nx.from_numpy_array(adj_matrix_)\n",
    "                num_components = nx.number_connected_components(G)\n",
    "                if num_components == num_clusters:\n",
    "                    return get_community_labels(G)\n",
    "\n",
    "    return np.arange(adj_matrix.shape[0])\n",
    "\n",
    "\n",
    "        \n"
   ]
  },
  {
   "cell_type": "code",
   "execution_count": 9,
   "metadata": {
    "colab": {
     "base_uri": "https://localhost:8080/"
    },
    "id": "zXg956ztREoV",
    "outputId": "19aee977-5d04-4c9f-d9a8-b7c93b1d5fe6"
   },
   "outputs": [
    {
     "data": {
      "text/plain": [
       "array([[1. , 1. , 1. , 1. , 1. , 0.2, 0.2, 0.2, 0.2, 0.2],\n",
       "       [1. , 1. , 1. , 1. , 1. , 0.2, 0.2, 0.2, 0.2, 0.2],\n",
       "       [1. , 1. , 1. , 1. , 1. , 0.2, 0.2, 0.2, 0.2, 0.2],\n",
       "       [1. , 1. , 1. , 1. , 1. , 0.2, 0.2, 0.2, 0.2, 0.2],\n",
       "       [1. , 1. , 1. , 1. , 1. , 0.2, 0.2, 0.2, 0.2, 0.2],\n",
       "       [0.2, 0.2, 0.2, 0.2, 0.2, 1. , 1. , 1. , 1. , 1. ],\n",
       "       [0.2, 0.2, 0.2, 0.2, 0.2, 1. , 1. , 1. , 1. , 1. ],\n",
       "       [0.2, 0.2, 0.2, 0.2, 0.2, 1. , 1. , 1. , 1. , 1. ],\n",
       "       [0.2, 0.2, 0.2, 0.2, 0.2, 1. , 1. , 1. , 1. , 1. ],\n",
       "       [0.2, 0.2, 0.2, 0.2, 0.2, 1. , 1. , 1. , 1. , 1. ]])"
      ]
     },
     "execution_count": 9,
     "metadata": {},
     "output_type": "execute_result"
    }
   ],
   "source": [
    "true_graph"
   ]
  },
  {
   "cell_type": "code",
   "execution_count": 10,
   "metadata": {
    "colab": {
     "base_uri": "https://localhost:8080/"
    },
    "id": "QHigkOwZKHAk",
    "outputId": "a631d2a4-3eb8-404c-9e91-93481e1599e4"
   },
   "outputs": [
    {
     "data": {
      "text/plain": [
       "array([0, 0, 0, 0, 0, 1, 1, 1, 1, 1])"
      ]
     },
     "execution_count": 10,
     "metadata": {},
     "output_type": "execute_result"
    }
   ],
   "source": [
    "threshold_clustering(true_graph, 2)"
   ]
  },
  {
   "cell_type": "markdown",
   "metadata": {
    "id": "Vkj73V9WDbcg"
   },
   "source": [
    "### MST-cut clustering"
   ]
  },
  {
   "cell_type": "code",
   "execution_count": 11,
   "metadata": {
    "id": "ENqkxQS7Dg0o"
   },
   "outputs": [],
   "source": [
    "def get_community_labels(G):\n",
    "    cc = list(nx.connected_components(G))\n",
    "    labels_ = np.zeros(G.number_of_nodes(), dtype=int)\n",
    "    for k, comm in enumerate(cc):\n",
    "        for label in comm:\n",
    "            labels_[label] = k\n",
    "    return  labels_\n",
    "\n",
    "def mst_cut_clustering(adj_matrix, num_clusters):\n",
    "    G = nx.from_numpy_array(adj_matrix)\n",
    "    mst = tree.maximum_spanning_edges(G, algorithm=\"kruskal\")\n",
    "    edgelist = list(mst)\n",
    "    edgelist.sort(key=lambda tup: tup[2]['weight'])\n",
    "    cutted_mst = nx.from_edgelist(edgelist) \n",
    "    to_cut = edgelist[0:num_clusters - 1]\n",
    "    cutted_mst.remove_edges_from(to_cut)\n",
    "    return get_community_labels(cutted_mst)\n",
    "\n",
    "    \n"
   ]
  },
  {
   "cell_type": "code",
   "execution_count": 12,
   "metadata": {
    "colab": {
     "base_uri": "https://localhost:8080/"
    },
    "id": "RqvuFEPGHvdz",
    "outputId": "6d4b8bf4-1cb4-4439-d5e4-309d24c616a4"
   },
   "outputs": [
    {
     "data": {
      "text/plain": [
       "array([0, 0, 0, 0, 0, 1, 1, 1, 1, 1])"
      ]
     },
     "execution_count": 12,
     "metadata": {},
     "output_type": "execute_result"
    }
   ],
   "source": [
    "mst_cut_clustering(true_graph, 2)"
   ]
  },
  {
   "cell_type": "markdown",
   "metadata": {
    "id": "xrBE0UmA3wL6"
   },
   "source": [
    "### Spectral clustering algorithms\n",
    "- spectral clustering is an approximate of RatioCut\n",
    "- normalized clustering is an approximate of NCut"
   ]
  },
  {
   "cell_type": "code",
   "execution_count": 14,
   "metadata": {
    "id": "_JM8qkoA3rup"
   },
   "outputs": [],
   "source": [
    "import numpy as np\n",
    "import networkx as nx\n",
    "import numpy.linalg as la\n",
    "from sklearn.cluster import KMeans\n",
    "import matplotlib.pyplot as plt\n",
    "from scipy.sparse import csgraph\n",
    "\n",
    "def spectral_clustering(adj_matrix, num_clusters = 0):\n",
    "  D = np.diag(np.ravel(np.sum(adj_matrix,axis=1)))\n",
    "  L = D - adj_matrix\n",
    "  l, U = la.eigh(L)\n",
    "  kmeans = KMeans(n_clusters=num_clusters).fit(U[:,1:num_clusters])\n",
    "  labels_ = kmeans.labels_\n",
    "  return  labels_\n",
    "\n",
    "def normalized_spectral_clustering(adj_matrix, num_clusters = 0):\n",
    "  l, U = la.eigh(csgraph.laplacian(adj_matrix, normed=True))\n",
    "  kmeans = KMeans(n_clusters=num_clusters).fit(U[:,1:num_clusters])\n",
    "  labels_ = kmeans.labels_\n",
    "  return labels_"
   ]
  },
  {
   "cell_type": "code",
   "execution_count": 15,
   "metadata": {
    "colab": {
     "base_uri": "https://localhost:8080/"
    },
    "id": "moeaxGRxPLUt",
    "outputId": "d936112f-513e-45b6-87b1-b14b7d370de1"
   },
   "outputs": [
    {
     "data": {
      "text/plain": [
       "array([0, 0, 0, 0, 0, 1, 1, 1, 1, 1])"
      ]
     },
     "execution_count": 15,
     "metadata": {},
     "output_type": "execute_result"
    }
   ],
   "source": [
    "spectral_clustering(true_graph, 2)"
   ]
  },
  {
   "cell_type": "code",
   "execution_count": 16,
   "metadata": {
    "colab": {
     "base_uri": "https://localhost:8080/"
    },
    "id": "rP_aDQdSPN6w",
    "outputId": "d1f2c433-411a-4129-8648-7631e7b90baf"
   },
   "outputs": [
    {
     "data": {
      "text/plain": [
       "array([0, 0, 0, 0, 0, 1, 1, 1, 1, 1])"
      ]
     },
     "execution_count": 16,
     "metadata": {},
     "output_type": "execute_result"
    }
   ],
   "source": [
    "normalized_spectral_clustering(true_graph, 2)"
   ]
  },
  {
   "cell_type": "markdown",
   "metadata": {
    "id": "sJDi9-STPmID"
   },
   "source": [
    "## Louvain"
   ]
  },
  {
   "cell_type": "code",
   "execution_count": 34,
   "metadata": {
    "colab": {
     "base_uri": "https://localhost:8080/",
     "height": 374
    },
    "id": "BRGEYfv7RPkv",
    "outputId": "22c51d34-2588-4292-f38d-64d29f8f014e"
   },
   "outputs": [
    {
     "name": "stdout",
     "output_type": "stream",
     "text": [
      "[{0, 4, 5, 7, 9}, {1, 2, 3, 6, 8}]\n"
     ]
    },
    {
     "data": {
      "text/plain": [
       "array([0, 1, 1, 1, 0, 0, 1, 0, 1, 0])"
      ]
     },
     "execution_count": 34,
     "metadata": {},
     "output_type": "execute_result"
    }
   ],
   "source": [
    "import networkx as nx\n",
    "import networkx.algorithms.community as nx_comm\n",
    "\n",
    "G = nx.petersen_graph()\n",
    "x = louvain_communities(G, seed=123)\n",
    "print(x)\n",
    "labels = np.zeros(G.number_of_nodes(), dtype=int)\n",
    "for i, x_ in enumerate(x):\n",
    "    for vertex in x_:\n",
    "        labels[vertex] = i\n",
    "labels"
   ]
  },
  {
   "cell_type": "code",
   "execution_count": 40,
   "metadata": {
    "id": "JjtADlUwPoPd"
   },
   "outputs": [],
   "source": [
    "from networkx.algorithms.community import louvain_communities\n",
    "\n",
    "def louvain(adj_matrix, num_clusters = 0):\n",
    "    graph = nx.from_numpy_array(adj_matrix)\n",
    "    comms = louvain_communities(graph)\n",
    "    labels_ = np.zeros(graph.number_of_nodes(), dtype=int)\n",
    "    for k, comm in enumerate(comms):\n",
    "        for vertex in comm:\n",
    "            labels_[vertex] = k\n",
    "    return  labels_"
   ]
  },
  {
   "cell_type": "code",
   "execution_count": 42,
   "metadata": {
    "colab": {
     "base_uri": "https://localhost:8080/",
     "height": 287
    },
    "id": "oQDANdicP2Db",
    "outputId": "9179bcb2-aa3d-4036-9e40-20a9f526a1e8"
   },
   "outputs": [
    {
     "data": {
      "text/plain": [
       "array([0, 0, 0, 0, 0, 1, 1, 1, 1, 1])"
      ]
     },
     "execution_count": 42,
     "metadata": {},
     "output_type": "execute_result"
    }
   ],
   "source": [
    "louvain(true_graph, 2)"
   ]
  },
  {
   "cell_type": "markdown",
   "metadata": {
    "id": "gZtwkrSn-ejW"
   },
   "source": [
    "## Tools for clustering analysis"
   ]
  },
  {
   "cell_type": "code",
   "execution_count": 44,
   "metadata": {
    "id": "qAg89NuJ9T3G"
   },
   "outputs": [],
   "source": [
    "import sklearn\n",
    "import numpy as np\n",
    "import networkx as nx\n",
    "import numpy.linalg as la\n",
    "import scipy.cluster.vq as vq\n",
    "from sklearn.cluster import KMeans\n",
    "import matplotlib.pyplot as plt\n",
    "import pandas as pd\n",
    "import statistics\n",
    "import csv\n",
    "import warnings\n",
    "warnings.filterwarnings('ignore')\n",
    "\n",
    "from tqdm import tqdm\n",
    "\n",
    "from scipy.sparse import csgraph\n",
    "from sklearn.metrics.cluster import rand_score\n",
    "#from sklearn.metrics import rand_score\n",
    "from sklearn.metrics.cluster import adjusted_rand_score\n",
    "\n",
    "import networkx.algorithms.community as nx_comm\n",
    "\n",
    "#from matplotlib.pyplot import figure\n",
    "\n",
    "\n",
    "def get_true_labels(num_groups, num_members):\n",
    "    true_labels = np.zeros(num_groups * num_members, dtype=int)\n",
    "    for i in range(0, num_groups):\n",
    "        for j in  range(0, num_members):\n",
    "            true_labels[i*num_members + j] = i\n",
    "    return true_labels\n",
    "\n",
    "def get_partition(labels):\n",
    "    partition = []\n",
    "    for i in range(labels.max() + 1):\n",
    "        partition.append(np.where(labels == i)[0])\n",
    "    return partition\n",
    "\n",
    "\n",
    "def get_rs_by_relation(r_out = 0.1, relation = np.linspace( 1, 10, 10)):\n",
    "    r_outs = np.full(relation.shape[0], r_out)\n",
    "    r_ins = np.array([x*r_out for x in relation])\n",
    "    return np.vstack((r_ins,r_outs))\n",
    "\n",
    "def compute_clustering(rs, algos = [mst_cut_clustering], num_clusters = 2, cluster_size=5, sample_vol = 10, num_repeats = 200):\n",
    "    mean_covs = [get_mean_cov(num_clusters = num_clusters, cluster_size = cluster_size, r_in = rs[0][i], r_out = rs[1][i]) for i in range(rs.shape[1])]\n",
    "    means = [mean_cov[0] for mean_cov in mean_covs]\n",
    "    covs = [mean_cov[1] for mean_cov in mean_covs]\n",
    "    true_graphs = [get_cor_from_cov(cov) for cov in covs]\n",
    "    [set_zero_weights_to_very_low(true_graph) for true_graph in true_graphs]\n",
    "    samples_bags = [generate_samples_bag(means[i], covs[i], bags = num_repeats, sample_size=sample_vol) for i,cov in enumerate(covs)]\n",
    "    print('Generating graphs started')\n",
    "    estimated_graphs_bags = [[set_zero_weights_to_very_low(get_corr_estimate(sample)) for sample in samples_bag] for samples_bag in tqdm(samples_bags)]\n",
    "    print('Generating graphs complete')\n",
    "\n",
    "    true_labels = get_true_labels(num_clusters, cluster_size)\n",
    "\n",
    "    result = dict()    \n",
    "    #metrics = dict.from_keys(['RI', 'ARI', 'modularity'])\n",
    "    #bar = progressbar.ProgressBar(maxval=len(estimated_graphs_bags) ).start()\n",
    "\n",
    "    for algo in algos:\n",
    "        algo_result = []\n",
    "        for idx, estimated_graphs_bag in enumerate(tqdm(estimated_graphs_bags)):\n",
    "            repeat_result = []\n",
    "            for estimated_graph in estimated_graphs_bag:\n",
    "                repeat_result.append(algo(estimated_graph, num_clusters))\n",
    "            algo_result.append(repeat_result)\n",
    "        print(algo.__name__ + ' complete')\n",
    "        result[algo.__name__] = algo_result\n",
    "\n",
    "    return true_labels, result, estimated_graphs_bags\n",
    "\n",
    "def get_cmap(n, name='hsv'):\n",
    "    '''Returns a function that maps each index in 0, 1, ..., n-1 to a distinct \n",
    "    RGB color; the keyword argument name must be a standard mpl colormap name.'''\n",
    "    return plt.cm.get_cmap(name, n)\n",
    "\n",
    "\n",
    "def nested_dict_to_dict(x):\n",
    "    y = dict()\n",
    "    for k1 in x:\n",
    "        for k2 in x[k1]:\n",
    "            y[(k1,k2)]=x[k1][k2]\n",
    "    return y\n",
    "\n",
    "def plot_quality_by_relation(rs, metrics, concrete_metrics=None):\n",
    "    #figure(figsize=(10, 12), dpi=100)\n",
    "    fig, ax = plt.subplots()\n",
    "\n",
    "    colors = ['-b', '-r', '-g', '-y', '-p', '-c', '-m']\n",
    "    #if len(metrics) * len(list(metrics.values())[0]) > len(colors):\n",
    "    reduced_metrics = nested_dict_to_dict(metrics)\n",
    "    #colors = get_cmap(len(reduced_metrics))\n",
    "    if(concrete_metrics):\n",
    "        for i, algo_metric in enumerate(reduced_metrics):\n",
    "            if algo_metric[1] in concrete_metrics:\n",
    "                ax.plot(rs[0], reduced_metrics[algo_metric], colors[i], label=algo_metric[1] + ' ' + algo_metric[0])\n",
    "    else:\n",
    "        for i, algo_metric in enumerate(reduced_metrics):\n",
    "                ax.plot(rs[0], reduced_metrics[algo_metric], colors[i], label=algo_metric[1] + ' ' + algo_metric[0])\n",
    "    #ax.axis('equal')#ax.axis('p_in')\n",
    "    leg = ax.legend();\n",
    "    #plt.plot(p_ins[:len(metric)], metric)\n",
    "    plt.xlabel('R_in', size=14)\n",
    "    #plt.ylabel(name, size=14)\n",
    "    plt.title('R_out=' + str(rs[1][0]), size=16)\n",
    "    return\n",
    "\n",
    "\n",
    "def validation(true_labels, result, estimated_graphs_bags):\n",
    "    metrics_by_algos = dict()\n",
    "    for algo in result:\n",
    "        metrics = dict()\n",
    "        metrics['RI'] = [np.mean(np.array([rand_score(true_labels, labels) for labels in labels_repeated])) for labels_repeated in result[algo]]\n",
    "        metrics['ARI'] = [np.mean(np.array([adjusted_rand_score(true_labels, labels) for labels in labels_repeated])) for labels_repeated in result[algo]]\n",
    "        #metrics['modularity'] = [np.mean(np.array([nx_comm.modularity(true_labels, get_partition(labels)) for labels in labels_repeated])) for labels_repeated in result[algo]]\n",
    "        metrics_by_algos[algo] = metrics\n",
    "    plot_quality_by_relation(rs, metrics_by_algos)\n",
    "    return metrics_by_algos\n"
   ]
  },
  {
   "cell_type": "markdown",
   "metadata": {
    "id": "shmJs2mskLWi"
   },
   "source": [
    "## Experiment 1: Comparison with fixed p_out and variating p_in/p_out from 1 to 20 "
   ]
  },
  {
   "cell_type": "code",
   "execution_count": 45,
   "metadata": {
    "id": "qC3Zg07Nm3gl"
   },
   "outputs": [],
   "source": [
    "rs = get_rs_by_relation(r_out = 0.05, relation = np.linspace( 1, 20, 20))"
   ]
  },
  {
   "cell_type": "code",
   "execution_count": 46,
   "metadata": {
    "colab": {
     "base_uri": "https://localhost:8080/"
    },
    "id": "UVoNBoZGoxZr",
    "outputId": "4e032ce4-7837-4de0-a9cb-208026045264"
   },
   "outputs": [
    {
     "name": "stdout",
     "output_type": "stream",
     "text": [
      "Generating graphs started\n"
     ]
    },
    {
     "name": "stderr",
     "output_type": "stream",
     "text": [
      "100%|██████████| 20/20 [00:03<00:00,  5.88it/s]\n"
     ]
    },
    {
     "name": "stdout",
     "output_type": "stream",
     "text": [
      "Generating graphs complete\n"
     ]
    },
    {
     "name": "stderr",
     "output_type": "stream",
     "text": [
      "100%|██████████| 20/20 [00:00<00:00, 29.34it/s]\n"
     ]
    },
    {
     "name": "stdout",
     "output_type": "stream",
     "text": [
      "mst_cut_clustering complete\n"
     ]
    },
    {
     "name": "stderr",
     "output_type": "stream",
     "text": [
      "100%|██████████| 20/20 [00:07<00:00,  2.56it/s]"
     ]
    },
    {
     "name": "stdout",
     "output_type": "stream",
     "text": [
      "threshold_clustering complete\n"
     ]
    },
    {
     "name": "stderr",
     "output_type": "stream",
     "text": [
      "\n"
     ]
    }
   ],
   "source": [
    "true_labels, result, estimated_graphs_bags = compute_clustering(rs, algos=[mst_cut_clustering, threshold_clustering], num_repeats=200)"
   ]
  },
  {
   "cell_type": "code",
   "execution_count": 47,
   "metadata": {
    "colab": {
     "base_uri": "https://localhost:8080/",
     "height": 301
    },
    "id": "9SEDRyPuOHrY",
    "outputId": "14229dbd-2610-4e47-913d-d7f35d9519bf"
   },
   "outputs": [
    {
     "data": {
      "image/png": "[encoded data removed]",
      "text/plain": [
       "<Figure size 432x288 with 1 Axes>"
      ]
     },
     "metadata": {
      "needs_background": "light"
     },
     "output_type": "display_data"
    }
   ],
   "source": [
    "metrics = validation(true_labels, result, estimated_graphs_bags) "
   ]
  },
  {
   "cell_type": "code",
   "execution_count": null,
   "metadata": {
    "colab": {
     "base_uri": "https://localhost:8080/"
    },
    "id": "WmmrDJ_ABA1-",
    "outputId": "93b12dd2-ee9c-4e39-ac3b-5499ba1d1623"
   },
   "outputs": [
    {
     "name": "stdout",
     "output_type": "stream",
     "text": [
      "Generating graphs started\n"
     ]
    },
    {
     "name": "stderr",
     "output_type": "stream",
     "text": [
      "100%|██████████| 20/20 [00:15<00:00,  1.28it/s]\n"
     ]
    },
    {
     "name": "stdout",
     "output_type": "stream",
     "text": [
      "Generating graphs complete\n"
     ]
    },
    {
     "name": "stderr",
     "output_type": "stream",
     "text": [
      "100%|██████████| 20/20 [00:06<00:00,  3.22it/s]"
     ]
    },
    {
     "name": "stdout",
     "output_type": "stream",
     "text": [
      "mst_cut_clustering complete\n"
     ]
    },
    {
     "name": "stderr",
     "output_type": "stream",
     "text": [
      "\n"
     ]
    }
   ],
   "source": [
    "true_labels, result, estimated_graphs_bags = compute_clustering(rs, algos=[mst_cut_clustering], num_repeats=200, sample_vol=100)"
   ]
  },
  {
   "cell_type": "code",
   "execution_count": null,
   "metadata": {
    "colab": {
     "base_uri": "https://localhost:8080/",
     "height": 301
    },
    "id": "w5G8POWPBuKc",
    "outputId": "98572ceb-1013-44ed-8b3e-9060889a8134"
   },
   "outputs": [
    {
     "data": {
      "image/png": "[encoded data removed]",
      "text/plain": [
       "<Figure size 432x288 with 1 Axes>"
      ]
     },
     "metadata": {
      "needs_background": "light"
     },
     "output_type": "display_data"
    }
   ],
   "source": [
    "metrics100 = validation(true_labels, result, estimated_graphs_bags) "
   ]
  },
  {
   "cell_type": "code",
   "execution_count": null,
   "metadata": {
    "colab": {
     "base_uri": "https://localhost:8080/",
     "height": 708
    },
    "id": "otzr1vMtCDir",
    "outputId": "3a8bf614-6199-45b3-be61-367fcc8d114c"
   },
   "outputs": [
    {
     "data": {
      "text/html": [
       "\n",
       "  <div id=\"df-15251c36-1eb1-4e38-9b54-85b079e255fa\">\n",
       "    <div class=\"colab-df-container\">\n",
       "      <div>\n",
       "<style scoped>\n",
       "    .dataframe tbody tr th:only-of-type {\n",
       "        vertical-align: middle;\n",
       "    }\n",
       "\n",
       "    .dataframe tbody tr th {\n",
       "        vertical-align: top;\n",
       "    }\n",
       "\n",
       "    .dataframe thead th {\n",
       "        text-align: right;\n",
       "    }\n",
       "</style>\n",
       "<table border=\"1\" class=\"dataframe\">\n",
       "  <thead>\n",
       "    <tr style=\"text-align: right;\">\n",
       "      <th></th>\n",
       "      <th>metrics10</th>\n",
       "      <th>metrics20</th>\n",
       "      <th>metrics100</th>\n",
       "    </tr>\n",
       "    <tr>\n",
       "      <th>r_in</th>\n",
       "      <th></th>\n",
       "      <th></th>\n",
       "      <th></th>\n",
       "    </tr>\n",
       "  </thead>\n",
       "  <tbody>\n",
       "    <tr>\n",
       "      <th>0.05</th>\n",
       "      <td>-0.003192</td>\n",
       "      <td>0.000508</td>\n",
       "      <td>-0.001126</td>\n",
       "    </tr>\n",
       "    <tr>\n",
       "      <th>0.10</th>\n",
       "      <td>-0.004180</td>\n",
       "      <td>0.002750</td>\n",
       "      <td>0.020330</td>\n",
       "    </tr>\n",
       "    <tr>\n",
       "      <th>0.15</th>\n",
       "      <td>0.008038</td>\n",
       "      <td>0.008563</td>\n",
       "      <td>0.087035</td>\n",
       "    </tr>\n",
       "    <tr>\n",
       "      <th>0.20</th>\n",
       "      <td>0.012288</td>\n",
       "      <td>0.013356</td>\n",
       "      <td>0.274392</td>\n",
       "    </tr>\n",
       "    <tr>\n",
       "      <th>0.25</th>\n",
       "      <td>0.026956</td>\n",
       "      <td>0.054296</td>\n",
       "      <td>0.496150</td>\n",
       "    </tr>\n",
       "    <tr>\n",
       "      <th>0.30</th>\n",
       "      <td>0.037274</td>\n",
       "      <td>0.085624</td>\n",
       "      <td>0.768310</td>\n",
       "    </tr>\n",
       "    <tr>\n",
       "      <th>0.35</th>\n",
       "      <td>0.054264</td>\n",
       "      <td>0.159150</td>\n",
       "      <td>0.933955</td>\n",
       "    </tr>\n",
       "    <tr>\n",
       "      <th>0.40</th>\n",
       "      <td>0.094961</td>\n",
       "      <td>0.227470</td>\n",
       "      <td>0.992985</td>\n",
       "    </tr>\n",
       "    <tr>\n",
       "      <th>0.45</th>\n",
       "      <td>0.123798</td>\n",
       "      <td>0.361943</td>\n",
       "      <td>0.990000</td>\n",
       "    </tr>\n",
       "    <tr>\n",
       "      <th>0.50</th>\n",
       "      <td>0.184685</td>\n",
       "      <td>0.538077</td>\n",
       "      <td>0.995000</td>\n",
       "    </tr>\n",
       "    <tr>\n",
       "      <th>0.55</th>\n",
       "      <td>0.307265</td>\n",
       "      <td>0.581760</td>\n",
       "      <td>1.000000</td>\n",
       "    </tr>\n",
       "    <tr>\n",
       "      <th>0.60</th>\n",
       "      <td>0.401220</td>\n",
       "      <td>0.783617</td>\n",
       "      <td>1.000000</td>\n",
       "    </tr>\n",
       "    <tr>\n",
       "      <th>0.65</th>\n",
       "      <td>0.487685</td>\n",
       "      <td>0.928323</td>\n",
       "      <td>1.000000</td>\n",
       "    </tr>\n",
       "    <tr>\n",
       "      <th>0.70</th>\n",
       "      <td>0.542883</td>\n",
       "      <td>0.951896</td>\n",
       "      <td>1.000000</td>\n",
       "    </tr>\n",
       "    <tr>\n",
       "      <th>0.75</th>\n",
       "      <td>0.741434</td>\n",
       "      <td>0.979434</td>\n",
       "      <td>1.000000</td>\n",
       "    </tr>\n",
       "    <tr>\n",
       "      <th>0.80</th>\n",
       "      <td>0.774640</td>\n",
       "      <td>0.995000</td>\n",
       "      <td>1.000000</td>\n",
       "    </tr>\n",
       "    <tr>\n",
       "      <th>0.85</th>\n",
       "      <td>0.938876</td>\n",
       "      <td>1.000000</td>\n",
       "      <td>1.000000</td>\n",
       "    </tr>\n",
       "    <tr>\n",
       "      <th>0.90</th>\n",
       "      <td>0.960000</td>\n",
       "      <td>1.000000</td>\n",
       "      <td>1.000000</td>\n",
       "    </tr>\n",
       "    <tr>\n",
       "      <th>0.95</th>\n",
       "      <td>0.997985</td>\n",
       "      <td>1.000000</td>\n",
       "      <td>1.000000</td>\n",
       "    </tr>\n",
       "    <tr>\n",
       "      <th>1.00</th>\n",
       "      <td>1.000000</td>\n",
       "      <td>1.000000</td>\n",
       "      <td>1.000000</td>\n",
       "    </tr>\n",
       "  </tbody>\n",
       "</table>\n",
       "</div>\n",
       "      <button class=\"colab-df-convert\" onclick=\"convertToInteractive('df-15251c36-1eb1-4e38-9b54-85b079e255fa')\"\n",
       "              title=\"Convert this dataframe to an interactive table.\"\n",
       "              style=\"display:none;\">\n",
       "        \n",
       "  <svg xmlns=\"http://www.w3.org/2000/svg\" height=\"24px\"viewBox=\"0 0 24 24\"\n",
       "       width=\"24px\">\n",
       "    <path d=\"M0 0h24v24H0V0z\" fill=\"none\"/>\n",
       "    <path d=\"M18.56 5.44l.94 2.06.94-2.06 2.06-.94-2.06-.94-.94-2.06-.94 2.06-2.06.94zm-11 1L8.5 8.5l.94-2.06 2.06-.94-2.06-.94L8.5 2.5l-.94 2.06-2.06.94zm10 10l.94 2.06.94-2.06 2.06-.94-2.06-.94-.94-2.06-.94 2.06-2.06.94z\"/><path d=\"M17.41 7.96l-1.37-1.37c-.4-.4-.92-.59-1.43-.59-.52 0-1.04.2-1.43.59L10.3 9.45l-7.72 7.72c-.78.78-.78 2.05 0 2.83L4 21.41c.39.39.9.59 1.41.59.51 0 1.02-.2 1.41-.59l7.78-7.78 2.81-2.81c.8-.78.8-2.07 0-2.86zM5.41 20L4 18.59l7.72-7.72 1.47 1.35L5.41 20z\"/>\n",
       "  </svg>\n",
       "      </button>\n",
       "      \n",
       "  <style>\n",
       "    .colab-df-container {\n",
       "      display:flex;\n",
       "      flex-wrap:wrap;\n",
       "      gap: 12px;\n",
       "    }\n",
       "\n",
       "    .colab-df-convert {\n",
       "      background-color: #E8F0FE;\n",
       "      border: none;\n",
       "      border-radius: 50%;\n",
       "      cursor: pointer;\n",
       "      display: none;\n",
       "      fill: #1967D2;\n",
       "      height: 32px;\n",
       "      padding: 0 0 0 0;\n",
       "      width: 32px;\n",
       "    }\n",
       "\n",
       "    .colab-df-convert:hover {\n",
       "      background-color: #E2EBFA;\n",
       "      box-shadow: 0px 1px 2px rgba(60, 64, 67, 0.3), 0px 1px 3px 1px rgba(60, 64, 67, 0.15);\n",
       "      fill: #174EA6;\n",
       "    }\n",
       "\n",
       "    [theme=dark] .colab-df-convert {\n",
       "      background-color: #3B4455;\n",
       "      fill: #D2E3FC;\n",
       "    }\n",
       "\n",
       "    [theme=dark] .colab-df-convert:hover {\n",
       "      background-color: #434B5C;\n",
       "      box-shadow: 0px 1px 3px 1px rgba(0, 0, 0, 0.15);\n",
       "      filter: drop-shadow(0px 1px 2px rgba(0, 0, 0, 0.3));\n",
       "      fill: #FFFFFF;\n",
       "    }\n",
       "  </style>\n",
       "\n",
       "      <script>\n",
       "        const buttonEl =\n",
       "          document.querySelector('#df-15251c36-1eb1-4e38-9b54-85b079e255fa button.colab-df-convert');\n",
       "        buttonEl.style.display =\n",
       "          google.colab.kernel.accessAllowed ? 'block' : 'none';\n",
       "\n",
       "        async function convertToInteractive(key) {\n",
       "          const element = document.querySelector('#df-15251c36-1eb1-4e38-9b54-85b079e255fa');\n",
       "          const dataTable =\n",
       "            await google.colab.kernel.invokeFunction('convertToInteractive',\n",
       "                                                     [key], {});\n",
       "          if (!dataTable) return;\n",
       "\n",
       "          const docLinkHtml = 'Like what you see? Visit the ' +\n",
       "            '<a target=\"_blank\" href=https://colab.research.google.com/notebooks/data_table.ipynb>data table notebook</a>'\n",
       "            + ' to learn more about interactive tables.';\n",
       "          element.innerHTML = '';\n",
       "          dataTable['output_type'] = 'display_data';\n",
       "          await google.colab.output.renderOutput(dataTable, element);\n",
       "          const docLink = document.createElement('div');\n",
       "          docLink.innerHTML = docLinkHtml;\n",
       "          element.appendChild(docLink);\n",
       "        }\n",
       "      </script>\n",
       "    </div>\n",
       "  </div>\n",
       "  "
      ],
      "text/plain": [
       "      metrics10  metrics20  metrics100\n",
       "r_in                                  \n",
       "0.05  -0.003192   0.000508   -0.001126\n",
       "0.10  -0.004180   0.002750    0.020330\n",
       "0.15   0.008038   0.008563    0.087035\n",
       "0.20   0.012288   0.013356    0.274392\n",
       "0.25   0.026956   0.054296    0.496150\n",
       "0.30   0.037274   0.085624    0.768310\n",
       "0.35   0.054264   0.159150    0.933955\n",
       "0.40   0.094961   0.227470    0.992985\n",
       "0.45   0.123798   0.361943    0.990000\n",
       "0.50   0.184685   0.538077    0.995000\n",
       "0.55   0.307265   0.581760    1.000000\n",
       "0.60   0.401220   0.783617    1.000000\n",
       "0.65   0.487685   0.928323    1.000000\n",
       "0.70   0.542883   0.951896    1.000000\n",
       "0.75   0.741434   0.979434    1.000000\n",
       "0.80   0.774640   0.995000    1.000000\n",
       "0.85   0.938876   1.000000    1.000000\n",
       "0.90   0.960000   1.000000    1.000000\n",
       "0.95   0.997985   1.000000    1.000000\n",
       "1.00   1.000000   1.000000    1.000000"
      ]
     },
     "execution_count": 50,
     "metadata": {},
     "output_type": "execute_result"
    }
   ],
   "source": [
    "df = pd.DataFrame(list(zip(rs[0], metrics['mst_cut_clustering']['ARI'], metrics20['mst_cut_clustering']['ARI'], metrics100['mst_cut_clustering']['ARI'])), columns = ['r_in', 'metrics10', 'metrics20', 'metrics100']).set_index(['r_in'])\n",
    "df"
   ]
  },
  {
   "cell_type": "code",
   "execution_count": null,
   "metadata": {
    "colab": {
     "base_uri": "https://localhost:8080/",
     "height": 297
    },
    "id": "t7WpBJ3MCtMR",
    "outputId": "6710b58b-7249-4ed9-d248-8b0e3ed31598"
   },
   "outputs": [
    {
     "data": {
      "text/plain": [
       "<matplotlib.axes._subplots.AxesSubplot at 0x7f7f79a7eb50>"
      ]
     },
     "execution_count": 51,
     "metadata": {},
     "output_type": "execute_result"
    },
    {
     "data": {
      "image/png": "[encoded data removed]",
      "text/plain": [
       "<Figure size 432x288 with 1 Axes>"
      ]
     },
     "metadata": {
      "needs_background": "light"
     },
     "output_type": "display_data"
    }
   ],
   "source": [
    "df.plot()"
   ]
  },
  {
   "cell_type": "code",
   "execution_count": null,
   "metadata": {
    "colab": {
     "base_uri": "https://localhost:8080/",
     "height": 708
    },
    "id": "V3JVKxuzDtzZ",
    "outputId": "3b893ea0-c964-4572-bba1-f536a723794a"
   },
   "outputs": [
    {
     "data": {
      "text/html": [
       "\n",
       "  <div id=\"df-acd8bb10-be6d-40c6-a629-f5873b8fd8f3\">\n",
       "    <div class=\"colab-df-container\">\n",
       "      <div>\n",
       "<style scoped>\n",
       "    .dataframe tbody tr th:only-of-type {\n",
       "        vertical-align: middle;\n",
       "    }\n",
       "\n",
       "    .dataframe tbody tr th {\n",
       "        vertical-align: top;\n",
       "    }\n",
       "\n",
       "    .dataframe thead tr th {\n",
       "        text-align: left;\n",
       "    }\n",
       "</style>\n",
       "<table border=\"1\" class=\"dataframe\">\n",
       "  <thead>\n",
       "    <tr>\n",
       "      <th></th>\n",
       "      <th colspan=\"2\" halign=\"left\">mst_cut_clustering</th>\n",
       "      <th colspan=\"2\" halign=\"left\">threshold_clustering</th>\n",
       "    </tr>\n",
       "    <tr>\n",
       "      <th></th>\n",
       "      <th>RI</th>\n",
       "      <th>ARI</th>\n",
       "      <th>RI</th>\n",
       "      <th>ARI</th>\n",
       "    </tr>\n",
       "  </thead>\n",
       "  <tbody>\n",
       "    <tr>\n",
       "      <th>0</th>\n",
       "      <td>0.475333</td>\n",
       "      <td>0.000327</td>\n",
       "      <td>0.475333</td>\n",
       "      <td>0.000327</td>\n",
       "    </tr>\n",
       "    <tr>\n",
       "      <th>1</th>\n",
       "      <td>0.477778</td>\n",
       "      <td>0.006021</td>\n",
       "      <td>0.477778</td>\n",
       "      <td>0.006021</td>\n",
       "    </tr>\n",
       "    <tr>\n",
       "      <th>2</th>\n",
       "      <td>0.480000</td>\n",
       "      <td>0.010766</td>\n",
       "      <td>0.480000</td>\n",
       "      <td>0.010766</td>\n",
       "    </tr>\n",
       "    <tr>\n",
       "      <th>3</th>\n",
       "      <td>0.484667</td>\n",
       "      <td>0.018186</td>\n",
       "      <td>0.484667</td>\n",
       "      <td>0.018186</td>\n",
       "    </tr>\n",
       "    <tr>\n",
       "      <th>4</th>\n",
       "      <td>0.485000</td>\n",
       "      <td>0.019912</td>\n",
       "      <td>0.485000</td>\n",
       "      <td>0.019912</td>\n",
       "    </tr>\n",
       "    <tr>\n",
       "      <th>5</th>\n",
       "      <td>0.487444</td>\n",
       "      <td>0.027853</td>\n",
       "      <td>0.487444</td>\n",
       "      <td>0.027853</td>\n",
       "    </tr>\n",
       "    <tr>\n",
       "      <th>6</th>\n",
       "      <td>0.518333</td>\n",
       "      <td>0.085711</td>\n",
       "      <td>0.518333</td>\n",
       "      <td>0.085711</td>\n",
       "    </tr>\n",
       "    <tr>\n",
       "      <th>7</th>\n",
       "      <td>0.516889</td>\n",
       "      <td>0.083474</td>\n",
       "      <td>0.516889</td>\n",
       "      <td>0.083474</td>\n",
       "    </tr>\n",
       "    <tr>\n",
       "      <th>8</th>\n",
       "      <td>0.542333</td>\n",
       "      <td>0.132554</td>\n",
       "      <td>0.542333</td>\n",
       "      <td>0.132554</td>\n",
       "    </tr>\n",
       "    <tr>\n",
       "      <th>9</th>\n",
       "      <td>0.555222</td>\n",
       "      <td>0.158022</td>\n",
       "      <td>0.555222</td>\n",
       "      <td>0.158022</td>\n",
       "    </tr>\n",
       "    <tr>\n",
       "      <th>10</th>\n",
       "      <td>0.577222</td>\n",
       "      <td>0.199111</td>\n",
       "      <td>0.577222</td>\n",
       "      <td>0.199111</td>\n",
       "    </tr>\n",
       "    <tr>\n",
       "      <th>11</th>\n",
       "      <td>0.670778</td>\n",
       "      <td>0.374257</td>\n",
       "      <td>0.670778</td>\n",
       "      <td>0.374257</td>\n",
       "    </tr>\n",
       "    <tr>\n",
       "      <th>12</th>\n",
       "      <td>0.722000</td>\n",
       "      <td>0.474024</td>\n",
       "      <td>0.722000</td>\n",
       "      <td>0.474024</td>\n",
       "    </tr>\n",
       "    <tr>\n",
       "      <th>13</th>\n",
       "      <td>0.798667</td>\n",
       "      <td>0.616935</td>\n",
       "      <td>0.798667</td>\n",
       "      <td>0.616935</td>\n",
       "    </tr>\n",
       "    <tr>\n",
       "      <th>14</th>\n",
       "      <td>0.832333</td>\n",
       "      <td>0.682238</td>\n",
       "      <td>0.832333</td>\n",
       "      <td>0.682238</td>\n",
       "    </tr>\n",
       "    <tr>\n",
       "      <th>15</th>\n",
       "      <td>0.922333</td>\n",
       "      <td>0.851620</td>\n",
       "      <td>0.922333</td>\n",
       "      <td>0.851620</td>\n",
       "    </tr>\n",
       "    <tr>\n",
       "      <th>16</th>\n",
       "      <td>0.965222</td>\n",
       "      <td>0.934456</td>\n",
       "      <td>0.965222</td>\n",
       "      <td>0.934456</td>\n",
       "    </tr>\n",
       "    <tr>\n",
       "      <th>17</th>\n",
       "      <td>0.990000</td>\n",
       "      <td>0.980970</td>\n",
       "      <td>0.990000</td>\n",
       "      <td>0.980970</td>\n",
       "    </tr>\n",
       "    <tr>\n",
       "      <th>18</th>\n",
       "      <td>1.000000</td>\n",
       "      <td>1.000000</td>\n",
       "      <td>1.000000</td>\n",
       "      <td>1.000000</td>\n",
       "    </tr>\n",
       "    <tr>\n",
       "      <th>19</th>\n",
       "      <td>1.000000</td>\n",
       "      <td>1.000000</td>\n",
       "      <td>1.000000</td>\n",
       "      <td>1.000000</td>\n",
       "    </tr>\n",
       "  </tbody>\n",
       "</table>\n",
       "</div>\n",
       "      <button class=\"colab-df-convert\" onclick=\"convertToInteractive('df-acd8bb10-be6d-40c6-a629-f5873b8fd8f3')\"\n",
       "              title=\"Convert this dataframe to an interactive table.\"\n",
       "              style=\"display:none;\">\n",
       "        \n",
       "  <svg xmlns=\"http://www.w3.org/2000/svg\" height=\"24px\"viewBox=\"0 0 24 24\"\n",
       "       width=\"24px\">\n",
       "    <path d=\"M0 0h24v24H0V0z\" fill=\"none\"/>\n",
       "    <path d=\"M18.56 5.44l.94 2.06.94-2.06 2.06-.94-2.06-.94-.94-2.06-.94 2.06-2.06.94zm-11 1L8.5 8.5l.94-2.06 2.06-.94-2.06-.94L8.5 2.5l-.94 2.06-2.06.94zm10 10l.94 2.06.94-2.06 2.06-.94-2.06-.94-.94-2.06-.94 2.06-2.06.94z\"/><path d=\"M17.41 7.96l-1.37-1.37c-.4-.4-.92-.59-1.43-.59-.52 0-1.04.2-1.43.59L10.3 9.45l-7.72 7.72c-.78.78-.78 2.05 0 2.83L4 21.41c.39.39.9.59 1.41.59.51 0 1.02-.2 1.41-.59l7.78-7.78 2.81-2.81c.8-.78.8-2.07 0-2.86zM5.41 20L4 18.59l7.72-7.72 1.47 1.35L5.41 20z\"/>\n",
       "  </svg>\n",
       "      </button>\n",
       "      \n",
       "  <style>\n",
       "    .colab-df-container {\n",
       "      display:flex;\n",
       "      flex-wrap:wrap;\n",
       "      gap: 12px;\n",
       "    }\n",
       "\n",
       "    .colab-df-convert {\n",
       "      background-color: #E8F0FE;\n",
       "      border: none;\n",
       "      border-radius: 50%;\n",
       "      cursor: pointer;\n",
       "      display: none;\n",
       "      fill: #1967D2;\n",
       "      height: 32px;\n",
       "      padding: 0 0 0 0;\n",
       "      width: 32px;\n",
       "    }\n",
       "\n",
       "    .colab-df-convert:hover {\n",
       "      background-color: #E2EBFA;\n",
       "      box-shadow: 0px 1px 2px rgba(60, 64, 67, 0.3), 0px 1px 3px 1px rgba(60, 64, 67, 0.15);\n",
       "      fill: #174EA6;\n",
       "    }\n",
       "\n",
       "    [theme=dark] .colab-df-convert {\n",
       "      background-color: #3B4455;\n",
       "      fill: #D2E3FC;\n",
       "    }\n",
       "\n",
       "    [theme=dark] .colab-df-convert:hover {\n",
       "      background-color: #434B5C;\n",
       "      box-shadow: 0px 1px 3px 1px rgba(0, 0, 0, 0.15);\n",
       "      filter: drop-shadow(0px 1px 2px rgba(0, 0, 0, 0.3));\n",
       "      fill: #FFFFFF;\n",
       "    }\n",
       "  </style>\n",
       "\n",
       "      <script>\n",
       "        const buttonEl =\n",
       "          document.querySelector('#df-acd8bb10-be6d-40c6-a629-f5873b8fd8f3 button.colab-df-convert');\n",
       "        buttonEl.style.display =\n",
       "          google.colab.kernel.accessAllowed ? 'block' : 'none';\n",
       "\n",
       "        async function convertToInteractive(key) {\n",
       "          const element = document.querySelector('#df-acd8bb10-be6d-40c6-a629-f5873b8fd8f3');\n",
       "          const dataTable =\n",
       "            await google.colab.kernel.invokeFunction('convertToInteractive',\n",
       "                                                     [key], {});\n",
       "          if (!dataTable) return;\n",
       "\n",
       "          const docLinkHtml = 'Like what you see? Visit the ' +\n",
       "            '<a target=\"_blank\" href=https://colab.research.google.com/notebooks/data_table.ipynb>data table notebook</a>'\n",
       "            + ' to learn more about interactive tables.';\n",
       "          element.innerHTML = '';\n",
       "          dataTable['output_type'] = 'display_data';\n",
       "          await google.colab.output.renderOutput(dataTable, element);\n",
       "          const docLink = document.createElement('div');\n",
       "          docLink.innerHTML = docLinkHtml;\n",
       "          element.appendChild(docLink);\n",
       "        }\n",
       "      </script>\n",
       "    </div>\n",
       "  </div>\n",
       "  "
      ],
      "text/plain": [
       "   mst_cut_clustering           threshold_clustering          \n",
       "                   RI       ARI                   RI       ARI\n",
       "0            0.475333  0.000327             0.475333  0.000327\n",
       "1            0.477778  0.006021             0.477778  0.006021\n",
       "2            0.480000  0.010766             0.480000  0.010766\n",
       "3            0.484667  0.018186             0.484667  0.018186\n",
       "4            0.485000  0.019912             0.485000  0.019912\n",
       "5            0.487444  0.027853             0.487444  0.027853\n",
       "6            0.518333  0.085711             0.518333  0.085711\n",
       "7            0.516889  0.083474             0.516889  0.083474\n",
       "8            0.542333  0.132554             0.542333  0.132554\n",
       "9            0.555222  0.158022             0.555222  0.158022\n",
       "10           0.577222  0.199111             0.577222  0.199111\n",
       "11           0.670778  0.374257             0.670778  0.374257\n",
       "12           0.722000  0.474024             0.722000  0.474024\n",
       "13           0.798667  0.616935             0.798667  0.616935\n",
       "14           0.832333  0.682238             0.832333  0.682238\n",
       "15           0.922333  0.851620             0.922333  0.851620\n",
       "16           0.965222  0.934456             0.965222  0.934456\n",
       "17           0.990000  0.980970             0.990000  0.980970\n",
       "18           1.000000  1.000000             1.000000  1.000000\n",
       "19           1.000000  1.000000             1.000000  1.000000"
      ]
     },
     "execution_count": 30,
     "metadata": {},
     "output_type": "execute_result"
    }
   ],
   "source": [
    "df= pd.DataFrame(nested_dict_to_dict(metrics))\n",
    "df"
   ]
  },
  {
   "cell_type": "code",
   "execution_count": null,
   "metadata": {
    "colab": {
     "base_uri": "https://localhost:8080/",
     "height": 283
    },
    "id": "bKtDqIh3RnlS",
    "outputId": "7ea5570a-fb33-466d-d6cf-544e868d2ef8"
   },
   "outputs": [
    {
     "data": {
      "text/plain": [
       "<matplotlib.axes._subplots.AxesSubplot at 0x7fd1f362d690>"
      ]
     },
     "execution_count": 31,
     "metadata": {},
     "output_type": "execute_result"
    },
    {
     "data": {
      "image/png": "[encoded data removed]",
      "text/plain": [
       "<Figure size 432x288 with 1 Axes>"
      ]
     },
     "metadata": {
      "needs_background": "light"
     },
     "output_type": "display_data"
    }
   ],
   "source": [
    "df.plot()"
   ]
  },
  {
   "cell_type": "code",
   "execution_count": null,
   "metadata": {
    "colab": {
     "base_uri": "https://localhost:8080/"
    },
    "id": "UkuOjpVsRruj",
    "outputId": "be945d54-f549-4318-a42d-240c5b5d0adc"
   },
   "outputs": [
    {
     "data": {
      "text/plain": [
       "0.0"
      ]
     },
     "execution_count": 35,
     "metadata": {},
     "output_type": "execute_result"
    }
   ],
   "source": [
    "np.linalg.norm(np.array(metrics['mst_cut_clustering']['RI']) - np.array(metrics['threshold_clustering']['RI']))"
   ]
  },
  {
   "cell_type": "code",
   "execution_count": 50,
   "metadata": {
    "id": "1w1A4kFgR7io"
   },
   "outputs": [
    {
     "name": "stdout",
     "output_type": "stream",
     "text": [
      "Generating graphs started\n"
     ]
    },
    {
     "name": "stderr",
     "output_type": "stream",
     "text": [
      "100%|██████████| 20/20 [00:03<00:00,  5.61it/s]\n"
     ]
    },
    {
     "name": "stdout",
     "output_type": "stream",
     "text": [
      "Generating graphs complete\n"
     ]
    },
    {
     "name": "stderr",
     "output_type": "stream",
     "text": [
      "100%|██████████| 20/20 [00:11<00:00,  1.76it/s]\n"
     ]
    },
    {
     "name": "stdout",
     "output_type": "stream",
     "text": [
      "spectral_clustering complete\n"
     ]
    },
    {
     "name": "stderr",
     "output_type": "stream",
     "text": [
      "100%|██████████| 20/20 [00:11<00:00,  1.71it/s]\n"
     ]
    },
    {
     "name": "stdout",
     "output_type": "stream",
     "text": [
      "normalized_spectral_clustering complete\n"
     ]
    },
    {
     "name": "stderr",
     "output_type": "stream",
     "text": [
      "100%|██████████| 20/20 [00:01<00:00, 10.84it/s]"
     ]
    },
    {
     "name": "stdout",
     "output_type": "stream",
     "text": [
      "louvain complete\n"
     ]
    },
    {
     "name": "stderr",
     "output_type": "stream",
     "text": [
      "\n"
     ]
    }
   ],
   "source": [
    "true_labels, result, estimated_graphs_bags= compute_clustering(\n",
    "    rs,\n",
    "    algos=[spectral_clustering, normalized_spectral_clustering, louvain ],\n",
    "    num_repeats=200)"
   ]
  },
  {
   "cell_type": "code",
   "execution_count": 51,
   "metadata": {},
   "outputs": [
    {
     "data": {
      "image/png": "[encoded data removed]",
      "text/plain": [
       "<Figure size 432x288 with 1 Axes>"
      ]
     },
     "metadata": {
      "needs_background": "light"
     },
     "output_type": "display_data"
    }
   ],
   "source": [
    "metrics = validation(true_labels, result, estimated_graphs_bags) "
   ]
  },
  {
   "cell_type": "code",
   "execution_count": null,
   "metadata": {},
   "outputs": [],
   "source": []
  }
 ],
 "metadata": {
  "colab": {
   "collapsed_sections": [],
   "name": "clustering_uncertainty.ipynb",
   "provenance": []
  },
  "kernelspec": {
   "display_name": "Python 3 (ipykernel)",
   "language": "python",
   "name": "python3"
  },
  "language_info": {
   "codemirror_mode": {
    "name": "ipython",
    "version": 3
   },
   "file_extension": ".py",
   "mimetype": "text/x-python",
   "name": "python",
   "nbconvert_exporter": "python",
   "pygments_lexer": "ipython3",
   "version": "3.9.7"
  }
 },
 "nbformat": 4,
 "nbformat_minor": 1
}
